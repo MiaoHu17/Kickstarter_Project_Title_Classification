{
  "nbformat": 4,
  "nbformat_minor": 0,
  "metadata": {
    "colab": {
      "name": "Kickstarter_Project_Title_Classification.ipynb",
      "provenance": [],
      "collapsed_sections": [],
      "toc_visible": true,
      "machine_shape": "hm",
      "mount_file_id": "11pRhgRwK6WVSiQxbSck1R8B7nPAiD2Lc",
      "authorship_tag": "ABX9TyPR28RlYZvc0a9WxJgwiDl1",
      "include_colab_link": true
    },
    "kernelspec": {
      "display_name": "Python 3",
      "name": "python3"
    },
    "accelerator": "GPU"
  },
  "cells": [
    {
      "cell_type": "markdown",
      "metadata": {
        "id": "view-in-github",
        "colab_type": "text"
      },
      "source": [
        "<a href=\"https://colab.research.google.com/github/MiaoHu17/Kickstarter_Project_Title_Classification/blob/main/Kickstarter_Project_Title_Classification.ipynb\" target=\"_parent\"><img src=\"https://colab.research.google.com/assets/colab-badge.svg\" alt=\"Open In Colab\"/></a>"
      ]
    },
    {
      "cell_type": "code",
      "metadata": {
        "colab": {
          "base_uri": "https://localhost:8080/"
        },
        "id": "r5Uw6Ovx0ncY",
        "outputId": "5cd57e23-a934-40c0-d49a-1fdc522117ea"
      },
      "source": [
        "import pandas as pd\r\n",
        "from datetime import datetime\r\n",
        "import numpy as np\r\n",
        "import re\r\n",
        "import nltk\r\n",
        "nltk.download('stopwords')\r\n",
        "nltk.download('punkt')\r\n",
        "nltk.download('wordnet')\r\n",
        "\r\n",
        "from sklearn.ensemble import RandomForestClassifier\r\n",
        "from sklearn.preprocessing import StandardScaler\r\n",
        "from sklearn.linear_model import LogisticRegression\r\n",
        "from sklearn.tree import DecisionTreeClassifier\r\n",
        "from sklearn.metrics import classification_report\r\n",
        "from sklearn.feature_extraction.text import TfidfVectorizer\r\n",
        "from sklearn.feature_selection import SelectKBest, mutual_info_classif\r\n",
        "from sklearn.model_selection import train_test_split\r\n",
        "from sklearn.model_selection import GridSearchCV\r\n",
        "from sklearn.utils import class_weight\r\n",
        "from sklearn.metrics import f1_score\r\n",
        "\r\n",
        "from nltk.corpus import stopwords\r\n",
        "from nltk.stem import PorterStemmer, LancasterStemmer\r\n",
        "from nltk.stem import WordNetLemmatizer\r\n",
        "from nltk.tokenize import sent_tokenize, word_tokenize\r\n",
        "\r\n",
        "\r\n",
        "from keras import Model\r\n",
        "from keras.preprocessing.text import Tokenizer\r\n",
        "from keras.preprocessing.sequence import pad_sequences\r\n",
        "from keras import Input\r\n",
        "from keras.layers import Embedding, LSTM, Dense, SpatialDropout1D, Concatenate, Dropout, Conv1D, GlobalMaxPooling1D, Bidirectional\r\n",
        "\r\n",
        "from tensorflow import keras\r\n",
        "import tensorflow as tf\r\n",
        "from tensorflow.python.client import device_lib\r\n",
        "from tensorflow.keras.callbacks import EarlyStopping\r\n",
        "\r\n",
        "import os\r\n",
        "\r\n",
        "import xgboost as xgb\r\n",
        "\r\n",
        "from scipy.stats import chi2_contingency\r\n",
        "from scipy.sparse import hstack"
      ],
      "execution_count": null,
      "outputs": [
        {
          "output_type": "stream",
          "text": [
            "[nltk_data] Downloading package stopwords to /root/nltk_data...\n",
            "[nltk_data]   Package stopwords is already up-to-date!\n",
            "[nltk_data] Downloading package punkt to /root/nltk_data...\n",
            "[nltk_data]   Package punkt is already up-to-date!\n",
            "[nltk_data] Downloading package wordnet to /root/nltk_data...\n",
            "[nltk_data]   Package wordnet is already up-to-date!\n"
          ],
          "name": "stdout"
        }
      ]
    },
    {
      "cell_type": "code",
      "metadata": {
        "colab": {
          "base_uri": "https://localhost:8080/"
        },
        "id": "5TL7nqSRCsZs",
        "outputId": "12a01b4d-5b26-4278-cfc7-158071553e44"
      },
      "source": [
        "df = pd.read_csv('/content/drive/MyDrive/flinks-data-challenge.csv').drop('Unnamed: 0',axis=1)\r\n",
        "df = df.drop('sub_category',axis=1)"
      ],
      "execution_count": null,
      "outputs": [
        {
          "output_type": "stream",
          "text": [
            "/usr/local/lib/python3.6/dist-packages/IPython/core/interactiveshell.py:2718: DtypeWarning: Columns (2) have mixed types.Specify dtype option on import or set low_memory=False.\n",
            "  interactivity=interactivity, compiler=compiler, result=result)\n"
          ],
          "name": "stderr"
        }
      ]
    },
    {
      "cell_type": "markdown",
      "metadata": {
        "id": "aTbC70-sEfj-"
      },
      "source": [
        "Since ***sub_category*** was selected after ***main_category***, therefore, this column should be dropped as it would be of no use in this case."
      ]
    },
    {
      "cell_type": "markdown",
      "metadata": {
        "id": "ONu7NokQ1bvN"
      },
      "source": [
        "#**Data Cleaning**\r\n",
        "\r\n"
      ]
    },
    {
      "cell_type": "markdown",
      "metadata": {
        "id": "TTiBf4khCgiM"
      },
      "source": [
        "## Check NAs"
      ]
    },
    {
      "cell_type": "markdown",
      "metadata": {
        "id": "9w2_4TTYr_Bc"
      },
      "source": [
        "By checking the Non-Null Count in each column, it is clear that there are some NaN in Name column, those entries would be removed from the dataset"
      ]
    },
    {
      "cell_type": "code",
      "metadata": {
        "colab": {
          "base_uri": "https://localhost:8080/"
        },
        "id": "gA-4h6wUR8XA",
        "outputId": "18f4c90a-f253-4745-c43c-b81d61a4e22b"
      },
      "source": [
        "df.info()"
      ],
      "execution_count": null,
      "outputs": [
        {
          "output_type": "stream",
          "text": [
            "<class 'pandas.core.frame.DataFrame'>\n",
            "RangeIndex: 323125 entries, 0 to 323124\n",
            "Data columns (total 5 columns):\n",
            " #   Column         Non-Null Count   Dtype \n",
            "---  ------         --------------   ----- \n",
            " 0   name           323121 non-null  object\n",
            " 1   goal           323125 non-null  object\n",
            " 2   main_category  323125 non-null  object\n",
            " 3   launched       323125 non-null  object\n",
            " 4   deadline       323125 non-null  object\n",
            "dtypes: object(5)\n",
            "memory usage: 12.3+ MB\n"
          ],
          "name": "stdout"
        }
      ]
    },
    {
      "cell_type": "code",
      "metadata": {
        "colab": {
          "base_uri": "https://localhost:8080/",
          "height": 173
        },
        "id": "sKGIqoZHCHhv",
        "outputId": "7d7baf2a-d9c7-4d80-f191-59ab1e044908"
      },
      "source": [
        "df[df['name'].isnull()]"
      ],
      "execution_count": null,
      "outputs": [
        {
          "output_type": "execute_result",
          "data": {
            "text/html": [
              "<div>\n",
              "<style scoped>\n",
              "    .dataframe tbody tr th:only-of-type {\n",
              "        vertical-align: middle;\n",
              "    }\n",
              "\n",
              "    .dataframe tbody tr th {\n",
              "        vertical-align: top;\n",
              "    }\n",
              "\n",
              "    .dataframe thead th {\n",
              "        text-align: right;\n",
              "    }\n",
              "</style>\n",
              "<table border=\"1\" class=\"dataframe\">\n",
              "  <thead>\n",
              "    <tr style=\"text-align: right;\">\n",
              "      <th></th>\n",
              "      <th>name</th>\n",
              "      <th>goal</th>\n",
              "      <th>main_category</th>\n",
              "      <th>launched</th>\n",
              "      <th>deadline</th>\n",
              "    </tr>\n",
              "  </thead>\n",
              "  <tbody>\n",
              "    <tr>\n",
              "      <th>142581</th>\n",
              "      <td>NaN</td>\n",
              "      <td>200000</td>\n",
              "      <td>Film &amp; Video</td>\n",
              "      <td>2012-01-01 12:35:31</td>\n",
              "      <td>2012-02-29 15:04:00</td>\n",
              "    </tr>\n",
              "    <tr>\n",
              "      <th>262398</th>\n",
              "      <td>NaN</td>\n",
              "      <td>2000</td>\n",
              "      <td>Games</td>\n",
              "      <td>2012-12-19 23:57:48</td>\n",
              "      <td>2013-01-06 23:00:00</td>\n",
              "    </tr>\n",
              "    <tr>\n",
              "      <th>264745</th>\n",
              "      <td>NaN</td>\n",
              "      <td>2500</td>\n",
              "      <td>Design</td>\n",
              "      <td>2016-06-18 05:01:47</td>\n",
              "      <td>2016-07-18 05:01:47</td>\n",
              "    </tr>\n",
              "    <tr>\n",
              "      <th>289292</th>\n",
              "      <td>NaN</td>\n",
              "      <td>35000</td>\n",
              "      <td>Art</td>\n",
              "      <td>2011-11-06 23:55:55</td>\n",
              "      <td>2011-12-05 05:59:00</td>\n",
              "    </tr>\n",
              "  </tbody>\n",
              "</table>\n",
              "</div>"
            ],
            "text/plain": [
              "       name    goal main_category             launched             deadline\n",
              "142581  NaN  200000  Film & Video  2012-01-01 12:35:31  2012-02-29 15:04:00\n",
              "262398  NaN    2000         Games  2012-12-19 23:57:48  2013-01-06 23:00:00\n",
              "264745  NaN    2500        Design  2016-06-18 05:01:47  2016-07-18 05:01:47\n",
              "289292  NaN   35000           Art  2011-11-06 23:55:55  2011-12-05 05:59:00"
            ]
          },
          "metadata": {
            "tags": []
          },
          "execution_count": 337
        }
      ]
    },
    {
      "cell_type": "code",
      "metadata": {
        "id": "_XhUqqq1BN0m"
      },
      "source": [
        "df = df.dropna()"
      ],
      "execution_count": null,
      "outputs": []
    },
    {
      "cell_type": "markdown",
      "metadata": {
        "id": "YqTA3j9lDc85"
      },
      "source": [
        "##Check each columns"
      ]
    },
    {
      "cell_type": "code",
      "metadata": {
        "colab": {
          "base_uri": "https://localhost:8080/"
        },
        "id": "aQoQ-HuJE5l1",
        "outputId": "ea8a70ef-ad4d-4252-da91-043a61df25d6"
      },
      "source": [
        "df['main_category'].unique()"
      ],
      "execution_count": null,
      "outputs": [
        {
          "output_type": "execute_result",
          "data": {
            "text/plain": [
              "array(['Publishing', 'Film & Video', 'Music', 'Food', 'Design', 'Crafts',\n",
              "       'Games', 'Comics', 'Fashion', 'Theater', 'Art', 'Photography',\n",
              "       'Technology', 'Dance', 'Journalism'], dtype=object)"
            ]
          },
          "metadata": {
            "tags": []
          },
          "execution_count": 339
        }
      ]
    },
    {
      "cell_type": "markdown",
      "metadata": {
        "id": "hPpmtWULcKGO"
      },
      "source": [
        "### Check ***launched*** and ***deadline*** columns"
      ]
    },
    {
      "cell_type": "markdown",
      "metadata": {
        "id": "z7Qy624qsOLg"
      },
      "source": [
        "First, I checked the ***launched*** and ***dealine*** columns, and noticed that there are some entries that have different format than other entries (YYYY-MM-DD HH-MM-SS). And in both columns, the entries are the same. "
      ]
    },
    {
      "cell_type": "code",
      "metadata": {
        "colab": {
          "base_uri": "https://localhost:8080/",
          "height": 266
        },
        "id": "RTAfmPcyE-hs",
        "outputId": "9f44c13e-bab7-41cd-bb44-773c1f07e765"
      },
      "source": [
        "df[df['launched'].apply(lambda x: len(x)!=19)]"
      ],
      "execution_count": null,
      "outputs": [
        {
          "output_type": "execute_result",
          "data": {
            "text/html": [
              "<div>\n",
              "<style scoped>\n",
              "    .dataframe tbody tr th:only-of-type {\n",
              "        vertical-align: middle;\n",
              "    }\n",
              "\n",
              "    .dataframe tbody tr th {\n",
              "        vertical-align: top;\n",
              "    }\n",
              "\n",
              "    .dataframe thead th {\n",
              "        text-align: right;\n",
              "    }\n",
              "</style>\n",
              "<table border=\"1\" class=\"dataframe\">\n",
              "  <thead>\n",
              "    <tr style=\"text-align: right;\">\n",
              "      <th></th>\n",
              "      <th>name</th>\n",
              "      <th>goal</th>\n",
              "      <th>main_category</th>\n",
              "      <th>launched</th>\n",
              "      <th>deadline</th>\n",
              "    </tr>\n",
              "  </thead>\n",
              "  <tbody>\n",
              "    <tr>\n",
              "      <th>64370</th>\n",
              "      <td>CD: Heartsong Harmonics</td>\n",
              "      <td>2015-11-03 00:59:00</td>\n",
              "      <td>Music</td>\n",
              "      <td>7085</td>\n",
              "      <td>USD</td>\n",
              "    </tr>\n",
              "    <tr>\n",
              "      <th>85465</th>\n",
              "      <td>Everyday Beautiful</td>\n",
              "      <td>2015-03-27 01:00:00</td>\n",
              "      <td>Film &amp; Video</td>\n",
              "      <td>2000</td>\n",
              "      <td>USD</td>\n",
              "    </tr>\n",
              "    <tr>\n",
              "      <th>98438</th>\n",
              "      <td>Hana Zara's new album</td>\n",
              "      <td>2015-03-03 02:04:57</td>\n",
              "      <td>Music</td>\n",
              "      <td>3000</td>\n",
              "      <td>USD</td>\n",
              "    </tr>\n",
              "    <tr>\n",
              "      <th>123282</th>\n",
              "      <td>Celebrating Joni Mitchell</td>\n",
              "      <td>2015-10-11 00:47:47</td>\n",
              "      <td>Music</td>\n",
              "      <td>5000</td>\n",
              "      <td>CAD</td>\n",
              "    </tr>\n",
              "    <tr>\n",
              "      <th>159139</th>\n",
              "      <td>Legal Highs</td>\n",
              "      <td>2014-11-05 03:00:57</td>\n",
              "      <td>Film &amp; Video</td>\n",
              "      <td>5000</td>\n",
              "      <td>GBP</td>\n",
              "    </tr>\n",
              "    <tr>\n",
              "      <th>162775</th>\n",
              "      <td>Puppy Training Steps</td>\n",
              "      <td>2015-04-24 22:07:03</td>\n",
              "      <td>Film &amp; Video</td>\n",
              "      <td>5000</td>\n",
              "      <td>USD</td>\n",
              "    </tr>\n",
              "    <tr>\n",
              "      <th>177308</th>\n",
              "      <td>Adventure to Peru's Sacred Valley</td>\n",
              "      <td>2015-03-21 21:13:23</td>\n",
              "      <td>Music</td>\n",
              "      <td>2200</td>\n",
              "      <td>USD</td>\n",
              "    </tr>\n",
              "  </tbody>\n",
              "</table>\n",
              "</div>"
            ],
            "text/plain": [
              "                                     name  ... deadline\n",
              "64370             CD: Heartsong Harmonics  ...      USD\n",
              "85465                  Everyday Beautiful  ...      USD\n",
              "98438               Hana Zara's new album  ...      USD\n",
              "123282          Celebrating Joni Mitchell  ...      CAD\n",
              "159139                        Legal Highs  ...      GBP\n",
              "162775               Puppy Training Steps  ...      USD\n",
              "177308  Adventure to Peru's Sacred Valley  ...      USD\n",
              "\n",
              "[7 rows x 5 columns]"
            ]
          },
          "metadata": {
            "tags": []
          },
          "execution_count": 340
        }
      ]
    },
    {
      "cell_type": "code",
      "metadata": {
        "colab": {
          "base_uri": "https://localhost:8080/",
          "height": 266
        },
        "id": "nICWZKaqE-ca",
        "outputId": "ff013e4a-eb98-44bd-eebd-e839c4e5e082"
      },
      "source": [
        "df[df['deadline'].apply(lambda x: len(x)!=19)]"
      ],
      "execution_count": null,
      "outputs": [
        {
          "output_type": "execute_result",
          "data": {
            "text/html": [
              "<div>\n",
              "<style scoped>\n",
              "    .dataframe tbody tr th:only-of-type {\n",
              "        vertical-align: middle;\n",
              "    }\n",
              "\n",
              "    .dataframe tbody tr th {\n",
              "        vertical-align: top;\n",
              "    }\n",
              "\n",
              "    .dataframe thead th {\n",
              "        text-align: right;\n",
              "    }\n",
              "</style>\n",
              "<table border=\"1\" class=\"dataframe\">\n",
              "  <thead>\n",
              "    <tr style=\"text-align: right;\">\n",
              "      <th></th>\n",
              "      <th>name</th>\n",
              "      <th>goal</th>\n",
              "      <th>main_category</th>\n",
              "      <th>launched</th>\n",
              "      <th>deadline</th>\n",
              "    </tr>\n",
              "  </thead>\n",
              "  <tbody>\n",
              "    <tr>\n",
              "      <th>64370</th>\n",
              "      <td>CD: Heartsong Harmonics</td>\n",
              "      <td>2015-11-03 00:59:00</td>\n",
              "      <td>Music</td>\n",
              "      <td>7085</td>\n",
              "      <td>USD</td>\n",
              "    </tr>\n",
              "    <tr>\n",
              "      <th>85465</th>\n",
              "      <td>Everyday Beautiful</td>\n",
              "      <td>2015-03-27 01:00:00</td>\n",
              "      <td>Film &amp; Video</td>\n",
              "      <td>2000</td>\n",
              "      <td>USD</td>\n",
              "    </tr>\n",
              "    <tr>\n",
              "      <th>98438</th>\n",
              "      <td>Hana Zara's new album</td>\n",
              "      <td>2015-03-03 02:04:57</td>\n",
              "      <td>Music</td>\n",
              "      <td>3000</td>\n",
              "      <td>USD</td>\n",
              "    </tr>\n",
              "    <tr>\n",
              "      <th>123282</th>\n",
              "      <td>Celebrating Joni Mitchell</td>\n",
              "      <td>2015-10-11 00:47:47</td>\n",
              "      <td>Music</td>\n",
              "      <td>5000</td>\n",
              "      <td>CAD</td>\n",
              "    </tr>\n",
              "    <tr>\n",
              "      <th>159139</th>\n",
              "      <td>Legal Highs</td>\n",
              "      <td>2014-11-05 03:00:57</td>\n",
              "      <td>Film &amp; Video</td>\n",
              "      <td>5000</td>\n",
              "      <td>GBP</td>\n",
              "    </tr>\n",
              "    <tr>\n",
              "      <th>162775</th>\n",
              "      <td>Puppy Training Steps</td>\n",
              "      <td>2015-04-24 22:07:03</td>\n",
              "      <td>Film &amp; Video</td>\n",
              "      <td>5000</td>\n",
              "      <td>USD</td>\n",
              "    </tr>\n",
              "    <tr>\n",
              "      <th>177308</th>\n",
              "      <td>Adventure to Peru's Sacred Valley</td>\n",
              "      <td>2015-03-21 21:13:23</td>\n",
              "      <td>Music</td>\n",
              "      <td>2200</td>\n",
              "      <td>USD</td>\n",
              "    </tr>\n",
              "  </tbody>\n",
              "</table>\n",
              "</div>"
            ],
            "text/plain": [
              "                                     name  ... deadline\n",
              "64370             CD: Heartsong Harmonics  ...      USD\n",
              "85465                  Everyday Beautiful  ...      USD\n",
              "98438               Hana Zara's new album  ...      USD\n",
              "123282          Celebrating Joni Mitchell  ...      CAD\n",
              "159139                        Legal Highs  ...      GBP\n",
              "162775               Puppy Training Steps  ...      USD\n",
              "177308  Adventure to Peru's Sacred Valley  ...      USD\n",
              "\n",
              "[7 rows x 5 columns]"
            ]
          },
          "metadata": {
            "tags": []
          },
          "execution_count": 341
        }
      ]
    },
    {
      "cell_type": "markdown",
      "metadata": {
        "id": "3cOcuRpXsocs"
      },
      "source": [
        "Those entries are removed from the dataset."
      ]
    },
    {
      "cell_type": "code",
      "metadata": {
        "id": "iBAT3NxwIxUa"
      },
      "source": [
        "df = df[df['launched'].apply(lambda x: len(x)==19)]"
      ],
      "execution_count": null,
      "outputs": []
    },
    {
      "cell_type": "markdown",
      "metadata": {
        "id": "rM2ZoLL4st_Z"
      },
      "source": [
        "After remove those entries, the rest of both columns are transformed into datetime format in order for further analysis"
      ]
    },
    {
      "cell_type": "code",
      "metadata": {
        "id": "V7qMsjjjcBvw"
      },
      "source": [
        "df['launched'] = pd.to_datetime(df['launched'])\r\n",
        "df['deadline'] = pd.to_datetime(df['deadline'])"
      ],
      "execution_count": null,
      "outputs": []
    },
    {
      "cell_type": "markdown",
      "metadata": {
        "id": "hsCZqjNvtDdf"
      },
      "source": [
        "It's clear that there are some errors in the ***launched*** column, (as the time was set to the Unix epoch), those records must be removed."
      ]
    },
    {
      "cell_type": "code",
      "metadata": {
        "colab": {
          "base_uri": "https://localhost:8080/",
          "height": 111
        },
        "id": "3U6XaYI1cQqI",
        "outputId": "6dccf4dd-037d-4979-b208-d73f786450dc"
      },
      "source": [
        "df[['launched','deadline']].agg([min, max])"
      ],
      "execution_count": null,
      "outputs": [
        {
          "output_type": "execute_result",
          "data": {
            "text/html": [
              "<div>\n",
              "<style scoped>\n",
              "    .dataframe tbody tr th:only-of-type {\n",
              "        vertical-align: middle;\n",
              "    }\n",
              "\n",
              "    .dataframe tbody tr th {\n",
              "        vertical-align: top;\n",
              "    }\n",
              "\n",
              "    .dataframe thead th {\n",
              "        text-align: right;\n",
              "    }\n",
              "</style>\n",
              "<table border=\"1\" class=\"dataframe\">\n",
              "  <thead>\n",
              "    <tr style=\"text-align: right;\">\n",
              "      <th></th>\n",
              "      <th>launched</th>\n",
              "      <th>deadline</th>\n",
              "    </tr>\n",
              "  </thead>\n",
              "  <tbody>\n",
              "    <tr>\n",
              "      <th>min</th>\n",
              "      <td>1970-01-01 01:00:00</td>\n",
              "      <td>2009-05-03 08:59:59</td>\n",
              "    </tr>\n",
              "    <tr>\n",
              "      <th>max</th>\n",
              "      <td>2016-12-06 10:18:31</td>\n",
              "      <td>2017-02-04 08:54:55</td>\n",
              "    </tr>\n",
              "  </tbody>\n",
              "</table>\n",
              "</div>"
            ],
            "text/plain": [
              "               launched            deadline\n",
              "min 1970-01-01 01:00:00 2009-05-03 08:59:59\n",
              "max 2016-12-06 10:18:31 2017-02-04 08:54:55"
            ]
          },
          "metadata": {
            "tags": []
          },
          "execution_count": 344
        }
      ]
    },
    {
      "cell_type": "code",
      "metadata": {
        "id": "VVBXJmZade6I"
      },
      "source": [
        "df = df[df['launched'].apply(lambda x: x.year>2000)]"
      ],
      "execution_count": null,
      "outputs": []
    },
    {
      "cell_type": "code",
      "metadata": {
        "colab": {
          "base_uri": "https://localhost:8080/",
          "height": 111
        },
        "id": "0iBQozpgc_I1",
        "outputId": "bb5b0c24-e3af-42fc-a4a2-d7ad5d7d220c"
      },
      "source": [
        "df[['launched','deadline']].agg([min, max])"
      ],
      "execution_count": null,
      "outputs": [
        {
          "output_type": "execute_result",
          "data": {
            "text/html": [
              "<div>\n",
              "<style scoped>\n",
              "    .dataframe tbody tr th:only-of-type {\n",
              "        vertical-align: middle;\n",
              "    }\n",
              "\n",
              "    .dataframe tbody tr th {\n",
              "        vertical-align: top;\n",
              "    }\n",
              "\n",
              "    .dataframe thead th {\n",
              "        text-align: right;\n",
              "    }\n",
              "</style>\n",
              "<table border=\"1\" class=\"dataframe\">\n",
              "  <thead>\n",
              "    <tr style=\"text-align: right;\">\n",
              "      <th></th>\n",
              "      <th>launched</th>\n",
              "      <th>deadline</th>\n",
              "    </tr>\n",
              "  </thead>\n",
              "  <tbody>\n",
              "    <tr>\n",
              "      <th>min</th>\n",
              "      <td>2009-04-21 21:02:48</td>\n",
              "      <td>2009-05-03 08:59:59</td>\n",
              "    </tr>\n",
              "    <tr>\n",
              "      <th>max</th>\n",
              "      <td>2016-12-06 10:18:31</td>\n",
              "      <td>2017-02-04 08:54:55</td>\n",
              "    </tr>\n",
              "  </tbody>\n",
              "</table>\n",
              "</div>"
            ],
            "text/plain": [
              "               launched            deadline\n",
              "min 2009-04-21 21:02:48 2009-05-03 08:59:59\n",
              "max 2016-12-06 10:18:31 2017-02-04 08:54:55"
            ]
          },
          "metadata": {
            "tags": []
          },
          "execution_count": 346
        }
      ]
    },
    {
      "cell_type": "markdown",
      "metadata": {
        "id": "Gmp9uM2meRUw"
      },
      "source": [
        "### Check ***goal*** column"
      ]
    },
    {
      "cell_type": "markdown",
      "metadata": {
        "id": "wWFxpS5ftMvz"
      },
      "source": [
        "As this column is a numerical column with integer, first thing to check is to see if there are any float format in this column"
      ]
    },
    {
      "cell_type": "code",
      "metadata": {
        "id": "paY5SYGdVdZ8"
      },
      "source": [
        "def check_goal_float(x):\r\n",
        "  try:\r\n",
        "    x = int(x)\r\n",
        "    return True\r\n",
        "  except:\r\n",
        "    return False"
      ],
      "execution_count": null,
      "outputs": []
    },
    {
      "cell_type": "code",
      "metadata": {
        "colab": {
          "base_uri": "https://localhost:8080/"
        },
        "id": "G3dR5cC1VgbM",
        "outputId": "78b064a9-a03c-4531-fc67-dc92b96bba6c"
      },
      "source": [
        "df[~df['goal'].apply(lambda x: check_goal_float(x))]['goal'].unique()"
      ],
      "execution_count": null,
      "outputs": [
        {
          "output_type": "execute_result",
          "data": {
            "text/plain": [
              "array(['3397.98', '2732.8', '40373.6', '870.71', '4444.44', '851.66',\n",
              "       '12524.22', '2999.99', '789.21', '6500.99', '2444.44', '1568.59',\n",
              "       '1824.79', '14567.87', '55.56', '3218.28', '2222.22', '7654.32',\n",
              "       '1.85', '1327.33', '2400.25', '47235.23', '12227.07', '10142.54',\n",
              "       '4999.99', '3700.37', '911.11', '764.5', '27725.32', '8111.11',\n",
              "       '17000.11', '1999.99', '5108.32', '15311.11', '147.1', '17628.64',\n",
              "       '4857.33', '1777.74', '820.18', '3000.2', '333.33', '5555.55',\n",
              "       '550.53', '2342.69', '255.65', '8101.01', '19453.5', '432.1',\n",
              "       '6499.99', '6543.21', '376.83', '3333.33', '246.17', '99021.46',\n",
              "       '33333.33', '19999.99', '1730.95', '5362.69', '114.8', '9999.99',\n",
              "       '2134.59', '2247.31', '6306.91', '38013.05', '11111.11', '3141.59',\n",
              "       '12015.21', '2399.99', '1903.62', '2527.11', '14725.72', '999.99',\n",
              "       '3345.25', '372.27', '5532.09', '2834.79', '8572.5', '20.1',\n",
              "       '4137.77', '1964.47', '4320.68', '12211.6', '4987.65', '5666.66',\n",
              "       '10035.35', '5678.9', '2259.61', '15194.18', '9573.13', '1558.6',\n",
              "       '11111.19', '22880.34', '28499.99', '44631.46', '2554.1',\n",
              "       '1111.11', '1800.49', '5142.17', '21474836.47', '122143.2',\n",
              "       '5263.15', '17748.9', '2500.13', '3353.81', '463.88', '5999.99',\n",
              "       '9748.12', '5355.7', '9999.98', '534.27', '9323.12', '3172.91',\n",
              "       '59999.99', '17469.9', '5329.36', '5483.61', '1231.08', '5432.1',\n",
              "       '6478.73', '12907.09', '3888.88', '1570.79', '5019.98', '575.99',\n",
              "       '1489.5', '324.29', '4442.5', '676.5', '60059.88', '1111.1',\n",
              "       '1142.5', '2606.66', '17777.44', '7849.1', '0.5', '4567.89',\n",
              "       '6131.9', '7994641.85', '5543.3', '9420.21', '956.87', '8199.99',\n",
              "       '1111.99', '99999.99', '880.62', '1824.78', '4092.7', '8596.08',\n",
              "       '6859.06', '2339.73', '149999.99', '1731.04', '9997.95', '3687.96',\n",
              "       '747.47', '6666.66', '13333.33', '6212.01', '2964.02', '499.11',\n",
              "       '26481.53', '135.5', '359419.97', '10116.09', '3923.5', '1799.95',\n",
              "       '2378.75', '2905.1', '7948.16', '8000.56', '1104.27', '18764.4',\n",
              "       '74381.43', '6231.14', '2165.34', '3832.01', '1500.15', '7777.77',\n",
              "       '35053.42', '5248.37', '1431.21', '5000.01', '883.42', '0.01',\n",
              "       '3335.3', '3434.34'], dtype=object)"
            ]
          },
          "metadata": {
            "tags": []
          },
          "execution_count": 348
        }
      ]
    },
    {
      "cell_type": "code",
      "metadata": {
        "id": "tfg2UMO8X3cv"
      },
      "source": [
        "df['goal'] = df['goal'].apply(lambda x: float(x))"
      ],
      "execution_count": null,
      "outputs": []
    },
    {
      "cell_type": "code",
      "metadata": {
        "id": "D40kDt5XXRw0"
      },
      "source": [
        "#See the distribution of goal amount for each category\r\n",
        "data_boxplot = []\r\n",
        "main_category = df['main_category'].unique()\r\n",
        "for item in main_category:\r\n",
        "  temp = df[df['main_category']==item]\r\n",
        "  temp = temp[['goal']]\r\n",
        "  temp = np.array(temp)\r\n",
        "  data_boxplot.append(temp)"
      ],
      "execution_count": null,
      "outputs": []
    },
    {
      "cell_type": "code",
      "metadata": {
        "colab": {
          "base_uri": "https://localhost:8080/",
          "height": 495
        },
        "id": "HdsODFkQl0oj",
        "outputId": "afd4e40f-aad2-40ba-8b33-bffe3726e1e9"
      },
      "source": [
        "df.boxplot(column='goal', by='main_category',figsize=(20,6))"
      ],
      "execution_count": null,
      "outputs": [
        {
          "output_type": "stream",
          "text": [
            "/usr/local/lib/python3.6/dist-packages/numpy/core/_asarray.py:83: VisibleDeprecationWarning: Creating an ndarray from ragged nested sequences (which is a list-or-tuple of lists-or-tuples-or ndarrays with different lengths or shapes) is deprecated. If you meant to do this, you must specify 'dtype=object' when creating the ndarray\n",
            "  return array(a, dtype, copy=False, order=order)\n"
          ],
          "name": "stderr"
        },
        {
          "output_type": "execute_result",
          "data": {
            "text/plain": [
              "<matplotlib.axes._subplots.AxesSubplot at 0x7f068f2e1390>"
            ]
          },
          "metadata": {
            "tags": []
          },
          "execution_count": 351
        },
        {
          "output_type": "display_data",
          "data": {
            "image/png": "[encoded data removed]",
            "text/plain": [
              "<Figure size 1440x432 with 1 Axes>"
            ]
          },
          "metadata": {
            "tags": [],
            "needs_background": "light"
          }
        }
      ]
    },
    {
      "cell_type": "markdown",
      "metadata": {
        "id": "jePTvA4VY5ii"
      },
      "source": [
        "From the plot above, there seems to be a few outliers that are above 80,000,000, and there are only 31 of them. "
      ]
    },
    {
      "cell_type": "code",
      "metadata": {
        "colab": {
          "base_uri": "https://localhost:8080/",
          "height": 1000
        },
        "id": "UH2J4Q6unlJx",
        "outputId": "963d7f45-fe89-4e45-e9bf-2f9a2074462c"
      },
      "source": [
        "df[df['goal']>=80000000.0]"
      ],
      "execution_count": null,
      "outputs": [
        {
          "output_type": "execute_result",
          "data": {
            "text/html": [
              "<div>\n",
              "<style scoped>\n",
              "    .dataframe tbody tr th:only-of-type {\n",
              "        vertical-align: middle;\n",
              "    }\n",
              "\n",
              "    .dataframe tbody tr th {\n",
              "        vertical-align: top;\n",
              "    }\n",
              "\n",
              "    .dataframe thead th {\n",
              "        text-align: right;\n",
              "    }\n",
              "</style>\n",
              "<table border=\"1\" class=\"dataframe\">\n",
              "  <thead>\n",
              "    <tr style=\"text-align: right;\">\n",
              "      <th></th>\n",
              "      <th>name</th>\n",
              "      <th>goal</th>\n",
              "      <th>main_category</th>\n",
              "      <th>launched</th>\n",
              "      <th>deadline</th>\n",
              "    </tr>\n",
              "  </thead>\n",
              "  <tbody>\n",
              "    <tr>\n",
              "      <th>20112</th>\n",
              "      <td>Help me start a fair media company, Trump Media</td>\n",
              "      <td>100000000.0</td>\n",
              "      <td>Journalism</td>\n",
              "      <td>2016-11-22 06:41:27</td>\n",
              "      <td>2017-01-21 06:41:27</td>\n",
              "    </tr>\n",
              "    <tr>\n",
              "      <th>40859</th>\n",
              "      <td>FUCK Potato Salad. Paleo Potato Brownies!</td>\n",
              "      <td>99000000.0</td>\n",
              "      <td>Food</td>\n",
              "      <td>2014-07-09 00:24:34</td>\n",
              "      <td>2014-08-08 00:24:34</td>\n",
              "    </tr>\n",
              "    <tr>\n",
              "      <th>47000</th>\n",
              "      <td>Kybernan Holographic Gaming Network</td>\n",
              "      <td>100000000.0</td>\n",
              "      <td>Games</td>\n",
              "      <td>2015-11-07 00:57:17</td>\n",
              "      <td>2016-01-01 06:59:00</td>\n",
              "    </tr>\n",
              "    <tr>\n",
              "      <th>62208</th>\n",
              "      <td>Art Is Fabulous</td>\n",
              "      <td>100000000.0</td>\n",
              "      <td>Art</td>\n",
              "      <td>2016-04-06 02:55:07</td>\n",
              "      <td>2016-06-05 02:55:07</td>\n",
              "    </tr>\n",
              "    <tr>\n",
              "      <th>62382</th>\n",
              "      <td>Wax Apple</td>\n",
              "      <td>100000000.0</td>\n",
              "      <td>Film &amp; Video</td>\n",
              "      <td>2014-12-16 15:43:58</td>\n",
              "      <td>2014-12-17 16:00:00</td>\n",
              "    </tr>\n",
              "    <tr>\n",
              "      <th>66368</th>\n",
              "      <td>Bring back Pontiac</td>\n",
              "      <td>100000000.0</td>\n",
              "      <td>Technology</td>\n",
              "      <td>2016-02-01 13:39:08</td>\n",
              "      <td>2016-04-01 13:39:08</td>\n",
              "    </tr>\n",
              "    <tr>\n",
              "      <th>80813</th>\n",
              "      <td>Survival SandBox Game (Canceled)</td>\n",
              "      <td>100000000.0</td>\n",
              "      <td>Games</td>\n",
              "      <td>2016-05-10 07:20:30</td>\n",
              "      <td>2016-06-24 07:20:30</td>\n",
              "    </tr>\n",
              "    <tr>\n",
              "      <th>101047</th>\n",
              "      <td>Our future</td>\n",
              "      <td>100000000.0</td>\n",
              "      <td>Technology</td>\n",
              "      <td>2014-08-08 19:05:39</td>\n",
              "      <td>2014-10-07 19:05:39</td>\n",
              "    </tr>\n",
              "    <tr>\n",
              "      <th>121157</th>\n",
              "      <td>NAKED FASHION ART</td>\n",
              "      <td>100000000.0</td>\n",
              "      <td>Art</td>\n",
              "      <td>2015-05-01 19:40:34</td>\n",
              "      <td>2015-06-30 19:30:00</td>\n",
              "    </tr>\n",
              "    <tr>\n",
              "      <th>124629</th>\n",
              "      <td>Let's prove the earth is FLAT! (Suspended) (Su...</td>\n",
              "      <td>100000000.0</td>\n",
              "      <td>Journalism</td>\n",
              "      <td>2015-12-21 22:29:31</td>\n",
              "      <td>2016-01-20 22:29:31</td>\n",
              "    </tr>\n",
              "    <tr>\n",
              "      <th>135405</th>\n",
              "      <td>The Return Of The Bell Witch Movie</td>\n",
              "      <td>100000000.0</td>\n",
              "      <td>Film &amp; Video</td>\n",
              "      <td>2014-04-09 18:59:51</td>\n",
              "      <td>2014-05-09 18:59:51</td>\n",
              "    </tr>\n",
              "    <tr>\n",
              "      <th>137006</th>\n",
              "      <td>The Book on Comedy 10 GABAGILLTRILLBILLIOPLEXI...</td>\n",
              "      <td>100000000.0</td>\n",
              "      <td>Comics</td>\n",
              "      <td>2014-08-12 21:27:50</td>\n",
              "      <td>2014-10-11 21:27:50</td>\n",
              "    </tr>\n",
              "    <tr>\n",
              "      <th>156601</th>\n",
              "      <td>404 ERROR - The first emergency kit for an int...</td>\n",
              "      <td>80000000.0</td>\n",
              "      <td>Technology</td>\n",
              "      <td>2015-06-15 11:40:42</td>\n",
              "      <td>2015-06-30 11:40:42</td>\n",
              "    </tr>\n",
              "    <tr>\n",
              "      <th>167837</th>\n",
              "      <td>A Celtic Lovestory</td>\n",
              "      <td>100000000.0</td>\n",
              "      <td>Film &amp; Video</td>\n",
              "      <td>2015-11-17 00:47:15</td>\n",
              "      <td>2015-11-30 23:01:00</td>\n",
              "    </tr>\n",
              "    <tr>\n",
              "      <th>180240</th>\n",
              "      <td>Virtual Reality Playground in Buffalo, NY</td>\n",
              "      <td>100000000.0</td>\n",
              "      <td>Games</td>\n",
              "      <td>2015-05-14 02:31:39</td>\n",
              "      <td>2015-06-28 02:31:39</td>\n",
              "    </tr>\n",
              "    <tr>\n",
              "      <th>181527</th>\n",
              "      <td>A Billion Pixels...</td>\n",
              "      <td>100000000.0</td>\n",
              "      <td>Technology</td>\n",
              "      <td>2014-06-05 23:39:34</td>\n",
              "      <td>2014-08-04 23:39:34</td>\n",
              "    </tr>\n",
              "    <tr>\n",
              "      <th>183421</th>\n",
              "      <td>Is Anyone Out There ?</td>\n",
              "      <td>100000000.0</td>\n",
              "      <td>Technology</td>\n",
              "      <td>2015-06-02 19:21:34</td>\n",
              "      <td>2015-08-01 19:21:34</td>\n",
              "    </tr>\n",
              "    <tr>\n",
              "      <th>190760</th>\n",
              "      <td>The Time Jumper</td>\n",
              "      <td>100000000.0</td>\n",
              "      <td>Film &amp; Video</td>\n",
              "      <td>2016-08-11 12:21:47</td>\n",
              "      <td>2016-10-10 12:21:47</td>\n",
              "    </tr>\n",
              "    <tr>\n",
              "      <th>193204</th>\n",
              "      <td>Kitchen from Austria in Switzerland</td>\n",
              "      <td>100000000.0</td>\n",
              "      <td>Food</td>\n",
              "      <td>2015-08-06 19:12:10</td>\n",
              "      <td>2015-10-05 19:12:10</td>\n",
              "    </tr>\n",
              "    <tr>\n",
              "      <th>207954</th>\n",
              "      <td>Jesus Priest</td>\n",
              "      <td>100000000.0</td>\n",
              "      <td>Film &amp; Video</td>\n",
              "      <td>2015-03-05 22:57:11</td>\n",
              "      <td>2015-05-04 18:00:00</td>\n",
              "    </tr>\n",
              "    <tr>\n",
              "      <th>221396</th>\n",
              "      <td>UniqueTrends</td>\n",
              "      <td>100000000.0</td>\n",
              "      <td>Fashion</td>\n",
              "      <td>2015-02-02 23:52:25</td>\n",
              "      <td>2015-03-04 23:52:25</td>\n",
              "    </tr>\n",
              "    <tr>\n",
              "      <th>237925</th>\n",
              "      <td>Billionaire Boy Blog (Canceled)</td>\n",
              "      <td>100000000.0</td>\n",
              "      <td>Publishing</td>\n",
              "      <td>2015-02-13 06:45:00</td>\n",
              "      <td>2015-03-15 05:45:00</td>\n",
              "    </tr>\n",
              "    <tr>\n",
              "      <th>238869</th>\n",
              "      <td>Back to the future! Hill Valley winnemucca, Ne...</td>\n",
              "      <td>80000000.0</td>\n",
              "      <td>Design</td>\n",
              "      <td>2015-05-29 06:28:52</td>\n",
              "      <td>2015-07-27 06:50:00</td>\n",
              "    </tr>\n",
              "    <tr>\n",
              "      <th>240013</th>\n",
              "      <td>The Scariest Movie Ever Created</td>\n",
              "      <td>100000000.0</td>\n",
              "      <td>Film &amp; Video</td>\n",
              "      <td>2015-07-23 21:44:02</td>\n",
              "      <td>2015-08-22 21:44:02</td>\n",
              "    </tr>\n",
              "    <tr>\n",
              "      <th>256930</th>\n",
              "      <td>The Multi-Trillion Dollar Dream (Canceled)</td>\n",
              "      <td>100000000.0</td>\n",
              "      <td>Design</td>\n",
              "      <td>2015-01-07 19:11:05</td>\n",
              "      <td>2015-03-02 08:59:00</td>\n",
              "    </tr>\n",
              "    <tr>\n",
              "      <th>260310</th>\n",
              "      <td>Kickstarter 2 - We are Making a Better Kicksta...</td>\n",
              "      <td>100000000.0</td>\n",
              "      <td>Publishing</td>\n",
              "      <td>2015-09-17 02:45:37</td>\n",
              "      <td>2015-11-16 02:45:37</td>\n",
              "    </tr>\n",
              "    <tr>\n",
              "      <th>288915</th>\n",
              "      <td>Robotech Take Over</td>\n",
              "      <td>100000000.0</td>\n",
              "      <td>Publishing</td>\n",
              "      <td>2014-08-01 20:06:07</td>\n",
              "      <td>2014-08-31 20:06:07</td>\n",
              "    </tr>\n",
              "    <tr>\n",
              "      <th>292092</th>\n",
              "      <td>The Castles of the Great Assimil Unearthed (Ca...</td>\n",
              "      <td>100000000.0</td>\n",
              "      <td>Publishing</td>\n",
              "      <td>2016-05-31 21:19:51</td>\n",
              "      <td>2016-06-30 21:19:51</td>\n",
              "    </tr>\n",
              "    <tr>\n",
              "      <th>297087</th>\n",
              "      <td>The Exodus, one Ark or many.</td>\n",
              "      <td>100000000.0</td>\n",
              "      <td>Film &amp; Video</td>\n",
              "      <td>2016-06-17 17:20:52</td>\n",
              "      <td>2016-08-16 17:20:53</td>\n",
              "    </tr>\n",
              "    <tr>\n",
              "      <th>313968</th>\n",
              "      <td>Hydroponic's Skyscraper(un gratte-ciel hydropo...</td>\n",
              "      <td>100000000.0</td>\n",
              "      <td>Technology</td>\n",
              "      <td>2015-08-25 23:52:30</td>\n",
              "      <td>2015-10-24 23:52:30</td>\n",
              "    </tr>\n",
              "    <tr>\n",
              "      <th>317001</th>\n",
              "      <td>\"PG\" Reanimated Cartoons Tha Movie</td>\n",
              "      <td>100000000.0</td>\n",
              "      <td>Film &amp; Video</td>\n",
              "      <td>2015-02-10 23:49:30</td>\n",
              "      <td>2015-04-11 23:48:13</td>\n",
              "    </tr>\n",
              "  </tbody>\n",
              "</table>\n",
              "</div>"
            ],
            "text/plain": [
              "                                                     name  ...            deadline\n",
              "20112     Help me start a fair media company, Trump Media  ... 2017-01-21 06:41:27\n",
              "40859           FUCK Potato Salad. Paleo Potato Brownies!  ... 2014-08-08 00:24:34\n",
              "47000                 Kybernan Holographic Gaming Network  ... 2016-01-01 06:59:00\n",
              "62208                                     Art Is Fabulous  ... 2016-06-05 02:55:07\n",
              "62382                                           Wax Apple  ... 2014-12-17 16:00:00\n",
              "66368                                  Bring back Pontiac  ... 2016-04-01 13:39:08\n",
              "80813                    Survival SandBox Game (Canceled)  ... 2016-06-24 07:20:30\n",
              "101047                                         Our future  ... 2014-10-07 19:05:39\n",
              "121157                                  NAKED FASHION ART  ... 2015-06-30 19:30:00\n",
              "124629  Let's prove the earth is FLAT! (Suspended) (Su...  ... 2016-01-20 22:29:31\n",
              "135405                 The Return Of The Bell Witch Movie  ... 2014-05-09 18:59:51\n",
              "137006  The Book on Comedy 10 GABAGILLTRILLBILLIOPLEXI...  ... 2014-10-11 21:27:50\n",
              "156601  404 ERROR - The first emergency kit for an int...  ... 2015-06-30 11:40:42\n",
              "167837                                 A Celtic Lovestory  ... 2015-11-30 23:01:00\n",
              "180240          Virtual Reality Playground in Buffalo, NY  ... 2015-06-28 02:31:39\n",
              "181527                                A Billion Pixels...  ... 2014-08-04 23:39:34\n",
              "183421                              Is Anyone Out There ?  ... 2015-08-01 19:21:34\n",
              "190760                                    The Time Jumper  ... 2016-10-10 12:21:47\n",
              "193204                Kitchen from Austria in Switzerland  ... 2015-10-05 19:12:10\n",
              "207954                                       Jesus Priest  ... 2015-05-04 18:00:00\n",
              "221396                                       UniqueTrends  ... 2015-03-04 23:52:25\n",
              "237925                    Billionaire Boy Blog (Canceled)  ... 2015-03-15 05:45:00\n",
              "238869  Back to the future! Hill Valley winnemucca, Ne...  ... 2015-07-27 06:50:00\n",
              "240013                    The Scariest Movie Ever Created  ... 2015-08-22 21:44:02\n",
              "256930        The Multi-Trillion Dollar Dream (Canceled)  ... 2015-03-02 08:59:00\n",
              "260310  Kickstarter 2 - We are Making a Better Kicksta...  ... 2015-11-16 02:45:37\n",
              "288915                                 Robotech Take Over  ... 2014-08-31 20:06:07\n",
              "292092  The Castles of the Great Assimil Unearthed (Ca...  ... 2016-06-30 21:19:51\n",
              "297087                       The Exodus, one Ark or many.  ... 2016-08-16 17:20:53\n",
              "313968  Hydroponic's Skyscraper(un gratte-ciel hydropo...  ... 2015-10-24 23:52:30\n",
              "317001                 \"PG\" Reanimated Cartoons Tha Movie  ... 2015-04-11 23:48:13\n",
              "\n",
              "[31 rows x 5 columns]"
            ]
          },
          "metadata": {
            "tags": []
          },
          "execution_count": 352
        }
      ]
    },
    {
      "cell_type": "code",
      "metadata": {
        "colab": {
          "base_uri": "https://localhost:8080/"
        },
        "id": "gDJuNQ2ntnek",
        "outputId": "75c41730-075d-43cb-b312-675f6bcfb413"
      },
      "source": [
        "print(len(df[df['goal']>=80000000.0]))"
      ],
      "execution_count": null,
      "outputs": [
        {
          "output_type": "stream",
          "text": [
            "31\n"
          ],
          "name": "stdout"
        }
      ]
    },
    {
      "cell_type": "markdown",
      "metadata": {
        "id": "lXNX8Rb6ZH1q"
      },
      "source": [
        "As a result, those entries were removed from the data."
      ]
    },
    {
      "cell_type": "code",
      "metadata": {
        "id": "I27KPvwI2P6n"
      },
      "source": [
        "df = df[df['goal']<80000000.0]"
      ],
      "execution_count": null,
      "outputs": []
    },
    {
      "cell_type": "markdown",
      "metadata": {
        "id": "Xb5jBur9F7PL"
      },
      "source": [
        "As the scale of ***goal*** is too wide, it is better to take a logarithm for this variable"
      ]
    },
    {
      "cell_type": "code",
      "metadata": {
        "id": "56HH1ZxdF_7S"
      },
      "source": [
        "df['goal'] = df['goal'].apply(lambda x: np.log(x))"
      ],
      "execution_count": null,
      "outputs": []
    },
    {
      "cell_type": "markdown",
      "metadata": {
        "id": "JS26DhM1n04u"
      },
      "source": [
        "## Remove (Canceled) and (Suspended) from ***name*** and clean the ***name*** column"
      ]
    },
    {
      "cell_type": "markdown",
      "metadata": {
        "id": "cRwkDJmPeiH6"
      },
      "source": [
        "As shown in the last part, there are some special annotation that was not part of the name for example: (Canceled) and (Suspended). Therefore we need to remove them from the ***name***"
      ]
    },
    {
      "cell_type": "code",
      "metadata": {
        "id": "Frencb34n8cj"
      },
      "source": [
        "def removeCanSus(x):\r\n",
        "  re_pattern = r'\\(Canceled\\)|\\(Suspended\\)'\r\n",
        "  x = re.sub(re_pattern,'',x)\r\n",
        "  x = x.strip()\r\n",
        "  return x"
      ],
      "execution_count": null,
      "outputs": []
    },
    {
      "cell_type": "code",
      "metadata": {
        "id": "vHrpik6KFGws"
      },
      "source": [
        "df['name'] = df['name'].apply(lambda x:removeCanSus(x))"
      ],
      "execution_count": null,
      "outputs": []
    },
    {
      "cell_type": "markdown",
      "metadata": {
        "id": "0Qmb9rrFuTMj"
      },
      "source": [
        "Remove punctuations and remove extra spaces and tranform the strings into lower case"
      ]
    },
    {
      "cell_type": "code",
      "metadata": {
        "id": "D6lJ1i8cncJT"
      },
      "source": [
        "# remove punctuations, digits and extra spaces\r\n",
        "df['name'] = df['name'].apply(lambda x: re.sub(r'[^a-zA-Z\\ ]',' ',x).strip())\r\n",
        "df['name'] = df['name'].apply(lambda x: re.sub(r'\\s+',' ',x).strip())\r\n",
        "\r\n",
        "# Transform to lower case.\r\n",
        "df['name'] = df['name'].apply(lambda x: x.lower())"
      ],
      "execution_count": null,
      "outputs": []
    },
    {
      "cell_type": "markdown",
      "metadata": {
        "id": "3YAN3m3raKAA"
      },
      "source": [
        "Check name column with total length of strings less than 4, and found there are some strange and pretty ambiguous words, therefore those should be removed from the dataset."
      ]
    },
    {
      "cell_type": "code",
      "metadata": {
        "colab": {
          "base_uri": "https://localhost:8080/",
          "height": 419
        },
        "id": "ksVlfGNWq-F4",
        "outputId": "0c3fad90-3745-40f0-d92e-0cf4d5b0f238"
      },
      "source": [
        "df[df['name'].apply(lambda x: len(x)<4)]"
      ],
      "execution_count": null,
      "outputs": [
        {
          "output_type": "execute_result",
          "data": {
            "text/html": [
              "<div>\n",
              "<style scoped>\n",
              "    .dataframe tbody tr th:only-of-type {\n",
              "        vertical-align: middle;\n",
              "    }\n",
              "\n",
              "    .dataframe tbody tr th {\n",
              "        vertical-align: top;\n",
              "    }\n",
              "\n",
              "    .dataframe thead th {\n",
              "        text-align: right;\n",
              "    }\n",
              "</style>\n",
              "<table border=\"1\" class=\"dataframe\">\n",
              "  <thead>\n",
              "    <tr style=\"text-align: right;\">\n",
              "      <th></th>\n",
              "      <th>name</th>\n",
              "      <th>goal</th>\n",
              "      <th>main_category</th>\n",
              "      <th>launched</th>\n",
              "      <th>deadline</th>\n",
              "    </tr>\n",
              "  </thead>\n",
              "  <tbody>\n",
              "    <tr>\n",
              "      <th>263</th>\n",
              "      <td>lei</td>\n",
              "      <td>5.913503</td>\n",
              "      <td>Film &amp; Video</td>\n",
              "      <td>2016-03-24 18:44:13</td>\n",
              "      <td>2016-04-17 00:00:00</td>\n",
              "    </tr>\n",
              "    <tr>\n",
              "      <th>619</th>\n",
              "      <td>one</td>\n",
              "      <td>9.210340</td>\n",
              "      <td>Film &amp; Video</td>\n",
              "      <td>2014-08-30 09:06:44</td>\n",
              "      <td>2014-10-12 08:00:00</td>\n",
              "    </tr>\n",
              "    <tr>\n",
              "      <th>1055</th>\n",
              "      <td>ssk</td>\n",
              "      <td>8.411833</td>\n",
              "      <td>Publishing</td>\n",
              "      <td>2012-03-05 21:42:54</td>\n",
              "      <td>2012-04-19 21:42:54</td>\n",
              "    </tr>\n",
              "    <tr>\n",
              "      <th>2800</th>\n",
              "      <td>hi</td>\n",
              "      <td>9.210340</td>\n",
              "      <td>Technology</td>\n",
              "      <td>2015-02-26 18:59:26</td>\n",
              "      <td>2015-04-27 18:59:26</td>\n",
              "    </tr>\n",
              "    <tr>\n",
              "      <th>3717</th>\n",
              "      <td>xxx</td>\n",
              "      <td>7.607878</td>\n",
              "      <td>Fashion</td>\n",
              "      <td>2013-12-28 22:20:30</td>\n",
              "      <td>2014-01-13 06:00:00</td>\n",
              "    </tr>\n",
              "    <tr>\n",
              "      <th>...</th>\n",
              "      <td>...</td>\n",
              "      <td>...</td>\n",
              "      <td>...</td>\n",
              "      <td>...</td>\n",
              "      <td>...</td>\n",
              "    </tr>\n",
              "    <tr>\n",
              "      <th>322052</th>\n",
              "      <td>ph</td>\n",
              "      <td>8.517193</td>\n",
              "      <td>Art</td>\n",
              "      <td>2012-11-13 09:00:47</td>\n",
              "      <td>2012-12-04 09:00:47</td>\n",
              "    </tr>\n",
              "    <tr>\n",
              "      <th>322430</th>\n",
              "      <td>eti</td>\n",
              "      <td>6.907755</td>\n",
              "      <td>Games</td>\n",
              "      <td>2015-05-22 12:54:05</td>\n",
              "      <td>2015-06-21 12:54:05</td>\n",
              "    </tr>\n",
              "    <tr>\n",
              "      <th>322537</th>\n",
              "      <td>mbp</td>\n",
              "      <td>11.589887</td>\n",
              "      <td>Technology</td>\n",
              "      <td>2016-06-17 23:48:27</td>\n",
              "      <td>2016-08-16 23:48:27</td>\n",
              "    </tr>\n",
              "    <tr>\n",
              "      <th>322715</th>\n",
              "      <td>red</td>\n",
              "      <td>5.991465</td>\n",
              "      <td>Film &amp; Video</td>\n",
              "      <td>2011-03-15 23:38:18</td>\n",
              "      <td>2011-05-06 06:00:00</td>\n",
              "    </tr>\n",
              "    <tr>\n",
              "      <th>323016</th>\n",
              "      <td>enz</td>\n",
              "      <td>8.517193</td>\n",
              "      <td>Fashion</td>\n",
              "      <td>2015-12-11 01:55:42</td>\n",
              "      <td>2016-02-09 01:55:42</td>\n",
              "    </tr>\n",
              "  </tbody>\n",
              "</table>\n",
              "<p>618 rows × 5 columns</p>\n",
              "</div>"
            ],
            "text/plain": [
              "       name       goal main_category            launched            deadline\n",
              "263     lei   5.913503  Film & Video 2016-03-24 18:44:13 2016-04-17 00:00:00\n",
              "619     one   9.210340  Film & Video 2014-08-30 09:06:44 2014-10-12 08:00:00\n",
              "1055    ssk   8.411833    Publishing 2012-03-05 21:42:54 2012-04-19 21:42:54\n",
              "2800     hi   9.210340    Technology 2015-02-26 18:59:26 2015-04-27 18:59:26\n",
              "3717    xxx   7.607878       Fashion 2013-12-28 22:20:30 2014-01-13 06:00:00\n",
              "...     ...        ...           ...                 ...                 ...\n",
              "322052   ph   8.517193           Art 2012-11-13 09:00:47 2012-12-04 09:00:47\n",
              "322430  eti   6.907755         Games 2015-05-22 12:54:05 2015-06-21 12:54:05\n",
              "322537  mbp  11.589887    Technology 2016-06-17 23:48:27 2016-08-16 23:48:27\n",
              "322715  red   5.991465  Film & Video 2011-03-15 23:38:18 2011-05-06 06:00:00\n",
              "323016  enz   8.517193       Fashion 2015-12-11 01:55:42 2016-02-09 01:55:42\n",
              "\n",
              "[618 rows x 5 columns]"
            ]
          },
          "metadata": {
            "tags": []
          },
          "execution_count": 359
        }
      ]
    },
    {
      "cell_type": "markdown",
      "metadata": {
        "id": "BV8J8YYxaRCa"
      },
      "source": [
        "What's more there are some entries only consists of single letters, those entries should be removed"
      ]
    },
    {
      "cell_type": "code",
      "metadata": {
        "id": "0oNXWgnxZaoj"
      },
      "source": [
        "def removeOneLetterOnly(x):\r\n",
        "  temp = re.sub(r'\\b\\w\\b','',x)\r\n",
        "  temp = re.sub(r'\\s+','',temp)\r\n",
        "  if len(temp) == 0:\r\n",
        "    return temp\r\n",
        "  else:\r\n",
        "    return x"
      ],
      "execution_count": null,
      "outputs": []
    },
    {
      "cell_type": "code",
      "metadata": {
        "id": "GjlQ3X18ugbh"
      },
      "source": [
        "df['name'] = df['name'].apply(lambda x: removeOneLetterOnly(x))\r\n",
        "df = df[df['name'].apply(lambda x: len(x)>0)]"
      ],
      "execution_count": null,
      "outputs": []
    },
    {
      "cell_type": "markdown",
      "metadata": {
        "id": "g7Lp_iXCZ4ap"
      },
      "source": [
        "Also, I checked ***name*** with only one word, those words would have ambiguous, in this use case, it is better to exclude them from the model. As the total number of data entries in the dataset is 323,118, after remove those records we would still have sufficient number of data "
      ]
    },
    {
      "cell_type": "code",
      "metadata": {
        "colab": {
          "base_uri": "https://localhost:8080/",
          "height": 419
        },
        "id": "Qe29EOHUZ3jn",
        "outputId": "b2557b77-0d80-433f-caf9-43b9fc43c533"
      },
      "source": [
        "df[df['name'].apply(lambda x: len(x.split())==1)]"
      ],
      "execution_count": null,
      "outputs": [
        {
          "output_type": "execute_result",
          "data": {
            "text/html": [
              "<div>\n",
              "<style scoped>\n",
              "    .dataframe tbody tr th:only-of-type {\n",
              "        vertical-align: middle;\n",
              "    }\n",
              "\n",
              "    .dataframe tbody tr th {\n",
              "        vertical-align: top;\n",
              "    }\n",
              "\n",
              "    .dataframe thead th {\n",
              "        text-align: right;\n",
              "    }\n",
              "</style>\n",
              "<table border=\"1\" class=\"dataframe\">\n",
              "  <thead>\n",
              "    <tr style=\"text-align: right;\">\n",
              "      <th></th>\n",
              "      <th>name</th>\n",
              "      <th>goal</th>\n",
              "      <th>main_category</th>\n",
              "      <th>launched</th>\n",
              "      <th>deadline</th>\n",
              "    </tr>\n",
              "  </thead>\n",
              "  <tbody>\n",
              "    <tr>\n",
              "      <th>49</th>\n",
              "      <td>underwater</td>\n",
              "      <td>9.159047</td>\n",
              "      <td>Film &amp; Video</td>\n",
              "      <td>2012-02-13 19:00:37</td>\n",
              "      <td>2012-03-26 06:00:00</td>\n",
              "    </tr>\n",
              "    <tr>\n",
              "      <th>141</th>\n",
              "      <td>sketches</td>\n",
              "      <td>6.907755</td>\n",
              "      <td>Publishing</td>\n",
              "      <td>2013-03-18 21:16:10</td>\n",
              "      <td>2013-04-07 22:16:10</td>\n",
              "    </tr>\n",
              "    <tr>\n",
              "      <th>152</th>\n",
              "      <td>covenant</td>\n",
              "      <td>10.373491</td>\n",
              "      <td>Music</td>\n",
              "      <td>2014-11-07 18:02:15</td>\n",
              "      <td>2014-12-07 18:02:15</td>\n",
              "    </tr>\n",
              "    <tr>\n",
              "      <th>161</th>\n",
              "      <td>risings</td>\n",
              "      <td>6.214608</td>\n",
              "      <td>Film &amp; Video</td>\n",
              "      <td>2014-06-10 10:36:20</td>\n",
              "      <td>2014-07-10 10:36:20</td>\n",
              "    </tr>\n",
              "    <tr>\n",
              "      <th>194</th>\n",
              "      <td>high</td>\n",
              "      <td>8.565983</td>\n",
              "      <td>Film &amp; Video</td>\n",
              "      <td>2016-06-02 04:55:34</td>\n",
              "      <td>2016-07-02 04:55:34</td>\n",
              "    </tr>\n",
              "    <tr>\n",
              "      <th>...</th>\n",
              "      <td>...</td>\n",
              "      <td>...</td>\n",
              "      <td>...</td>\n",
              "      <td>...</td>\n",
              "      <td>...</td>\n",
              "    </tr>\n",
              "    <tr>\n",
              "      <th>323054</th>\n",
              "      <td>fluxpanel</td>\n",
              "      <td>10.819778</td>\n",
              "      <td>Technology</td>\n",
              "      <td>2015-03-19 20:01:10</td>\n",
              "      <td>2015-04-18 21:01:10</td>\n",
              "    </tr>\n",
              "    <tr>\n",
              "      <th>323079</th>\n",
              "      <td>corporeal</td>\n",
              "      <td>6.214608</td>\n",
              "      <td>Dance</td>\n",
              "      <td>2013-04-25 01:59:29</td>\n",
              "      <td>2013-05-15 01:59:29</td>\n",
              "    </tr>\n",
              "    <tr>\n",
              "      <th>323100</th>\n",
              "      <td>loreto</td>\n",
              "      <td>9.392662</td>\n",
              "      <td>Film &amp; Video</td>\n",
              "      <td>2014-05-06 23:50:34</td>\n",
              "      <td>2014-06-05 06:00:00</td>\n",
              "    </tr>\n",
              "    <tr>\n",
              "      <th>323102</th>\n",
              "      <td>transcaucasia</td>\n",
              "      <td>8.294050</td>\n",
              "      <td>Photography</td>\n",
              "      <td>2010-11-08 02:43:59</td>\n",
              "      <td>2011-01-08 02:43:59</td>\n",
              "    </tr>\n",
              "    <tr>\n",
              "      <th>323118</th>\n",
              "      <td>islanda</td>\n",
              "      <td>7.438384</td>\n",
              "      <td>Film &amp; Video</td>\n",
              "      <td>2012-02-15 04:31:10</td>\n",
              "      <td>2012-03-16 03:31:10</td>\n",
              "    </tr>\n",
              "  </tbody>\n",
              "</table>\n",
              "<p>13965 rows × 5 columns</p>\n",
              "</div>"
            ],
            "text/plain": [
              "                 name       goal  ...            launched            deadline\n",
              "49         underwater   9.159047  ... 2012-02-13 19:00:37 2012-03-26 06:00:00\n",
              "141          sketches   6.907755  ... 2013-03-18 21:16:10 2013-04-07 22:16:10\n",
              "152          covenant  10.373491  ... 2014-11-07 18:02:15 2014-12-07 18:02:15\n",
              "161           risings   6.214608  ... 2014-06-10 10:36:20 2014-07-10 10:36:20\n",
              "194              high   8.565983  ... 2016-06-02 04:55:34 2016-07-02 04:55:34\n",
              "...               ...        ...  ...                 ...                 ...\n",
              "323054      fluxpanel  10.819778  ... 2015-03-19 20:01:10 2015-04-18 21:01:10\n",
              "323079      corporeal   6.214608  ... 2013-04-25 01:59:29 2013-05-15 01:59:29\n",
              "323100         loreto   9.392662  ... 2014-05-06 23:50:34 2014-06-05 06:00:00\n",
              "323102  transcaucasia   8.294050  ... 2010-11-08 02:43:59 2011-01-08 02:43:59\n",
              "323118        islanda   7.438384  ... 2012-02-15 04:31:10 2012-03-16 03:31:10\n",
              "\n",
              "[13965 rows x 5 columns]"
            ]
          },
          "metadata": {
            "tags": []
          },
          "execution_count": 362
        }
      ]
    },
    {
      "cell_type": "markdown",
      "metadata": {
        "id": "G7OzeuO6PkJx"
      },
      "source": [
        "Additionally, ***name*** with length less than 4 are usually meaningless"
      ]
    },
    {
      "cell_type": "code",
      "metadata": {
        "colab": {
          "base_uri": "https://localhost:8080/",
          "height": 419
        },
        "id": "k8l-nHf5rAWH",
        "outputId": "1113334a-fd07-453a-f104-7998481c4b05"
      },
      "source": [
        "df[df['name'].apply(lambda x: len(x)<4)]"
      ],
      "execution_count": null,
      "outputs": [
        {
          "output_type": "execute_result",
          "data": {
            "text/html": [
              "<div>\n",
              "<style scoped>\n",
              "    .dataframe tbody tr th:only-of-type {\n",
              "        vertical-align: middle;\n",
              "    }\n",
              "\n",
              "    .dataframe tbody tr th {\n",
              "        vertical-align: top;\n",
              "    }\n",
              "\n",
              "    .dataframe thead th {\n",
              "        text-align: right;\n",
              "    }\n",
              "</style>\n",
              "<table border=\"1\" class=\"dataframe\">\n",
              "  <thead>\n",
              "    <tr style=\"text-align: right;\">\n",
              "      <th></th>\n",
              "      <th>name</th>\n",
              "      <th>goal</th>\n",
              "      <th>main_category</th>\n",
              "      <th>launched</th>\n",
              "      <th>deadline</th>\n",
              "    </tr>\n",
              "  </thead>\n",
              "  <tbody>\n",
              "    <tr>\n",
              "      <th>263</th>\n",
              "      <td>lei</td>\n",
              "      <td>5.913503</td>\n",
              "      <td>Film &amp; Video</td>\n",
              "      <td>2016-03-24 18:44:13</td>\n",
              "      <td>2016-04-17 00:00:00</td>\n",
              "    </tr>\n",
              "    <tr>\n",
              "      <th>619</th>\n",
              "      <td>one</td>\n",
              "      <td>9.210340</td>\n",
              "      <td>Film &amp; Video</td>\n",
              "      <td>2014-08-30 09:06:44</td>\n",
              "      <td>2014-10-12 08:00:00</td>\n",
              "    </tr>\n",
              "    <tr>\n",
              "      <th>1055</th>\n",
              "      <td>ssk</td>\n",
              "      <td>8.411833</td>\n",
              "      <td>Publishing</td>\n",
              "      <td>2012-03-05 21:42:54</td>\n",
              "      <td>2012-04-19 21:42:54</td>\n",
              "    </tr>\n",
              "    <tr>\n",
              "      <th>2800</th>\n",
              "      <td>hi</td>\n",
              "      <td>9.210340</td>\n",
              "      <td>Technology</td>\n",
              "      <td>2015-02-26 18:59:26</td>\n",
              "      <td>2015-04-27 18:59:26</td>\n",
              "    </tr>\n",
              "    <tr>\n",
              "      <th>3717</th>\n",
              "      <td>xxx</td>\n",
              "      <td>7.607878</td>\n",
              "      <td>Fashion</td>\n",
              "      <td>2013-12-28 22:20:30</td>\n",
              "      <td>2014-01-13 06:00:00</td>\n",
              "    </tr>\n",
              "    <tr>\n",
              "      <th>...</th>\n",
              "      <td>...</td>\n",
              "      <td>...</td>\n",
              "      <td>...</td>\n",
              "      <td>...</td>\n",
              "      <td>...</td>\n",
              "    </tr>\n",
              "    <tr>\n",
              "      <th>322052</th>\n",
              "      <td>ph</td>\n",
              "      <td>8.517193</td>\n",
              "      <td>Art</td>\n",
              "      <td>2012-11-13 09:00:47</td>\n",
              "      <td>2012-12-04 09:00:47</td>\n",
              "    </tr>\n",
              "    <tr>\n",
              "      <th>322430</th>\n",
              "      <td>eti</td>\n",
              "      <td>6.907755</td>\n",
              "      <td>Games</td>\n",
              "      <td>2015-05-22 12:54:05</td>\n",
              "      <td>2015-06-21 12:54:05</td>\n",
              "    </tr>\n",
              "    <tr>\n",
              "      <th>322537</th>\n",
              "      <td>mbp</td>\n",
              "      <td>11.589887</td>\n",
              "      <td>Technology</td>\n",
              "      <td>2016-06-17 23:48:27</td>\n",
              "      <td>2016-08-16 23:48:27</td>\n",
              "    </tr>\n",
              "    <tr>\n",
              "      <th>322715</th>\n",
              "      <td>red</td>\n",
              "      <td>5.991465</td>\n",
              "      <td>Film &amp; Video</td>\n",
              "      <td>2011-03-15 23:38:18</td>\n",
              "      <td>2011-05-06 06:00:00</td>\n",
              "    </tr>\n",
              "    <tr>\n",
              "      <th>323016</th>\n",
              "      <td>enz</td>\n",
              "      <td>8.517193</td>\n",
              "      <td>Fashion</td>\n",
              "      <td>2015-12-11 01:55:42</td>\n",
              "      <td>2016-02-09 01:55:42</td>\n",
              "    </tr>\n",
              "  </tbody>\n",
              "</table>\n",
              "<p>487 rows × 5 columns</p>\n",
              "</div>"
            ],
            "text/plain": [
              "       name       goal main_category            launched            deadline\n",
              "263     lei   5.913503  Film & Video 2016-03-24 18:44:13 2016-04-17 00:00:00\n",
              "619     one   9.210340  Film & Video 2014-08-30 09:06:44 2014-10-12 08:00:00\n",
              "1055    ssk   8.411833    Publishing 2012-03-05 21:42:54 2012-04-19 21:42:54\n",
              "2800     hi   9.210340    Technology 2015-02-26 18:59:26 2015-04-27 18:59:26\n",
              "3717    xxx   7.607878       Fashion 2013-12-28 22:20:30 2014-01-13 06:00:00\n",
              "...     ...        ...           ...                 ...                 ...\n",
              "322052   ph   8.517193           Art 2012-11-13 09:00:47 2012-12-04 09:00:47\n",
              "322430  eti   6.907755         Games 2015-05-22 12:54:05 2015-06-21 12:54:05\n",
              "322537  mbp  11.589887    Technology 2016-06-17 23:48:27 2016-08-16 23:48:27\n",
              "322715  red   5.991465  Film & Video 2011-03-15 23:38:18 2011-05-06 06:00:00\n",
              "323016  enz   8.517193       Fashion 2015-12-11 01:55:42 2016-02-09 01:55:42\n",
              "\n",
              "[487 rows x 5 columns]"
            ]
          },
          "metadata": {
            "tags": []
          },
          "execution_count": 363
        }
      ]
    },
    {
      "cell_type": "code",
      "metadata": {
        "id": "Gm-QeqCVvAqU"
      },
      "source": [
        "#Remove the entries with total length of name smaller than 4. (As given above, they have ambiguous meaning)\r\n",
        "df = df[df['name'].apply(lambda x: len(x)>=4)]\r\n",
        "df = df[df['name'].apply(lambda x: len(x.split())>1)]"
      ],
      "execution_count": null,
      "outputs": []
    },
    {
      "cell_type": "markdown",
      "metadata": {
        "id": "w_TQ2RFFSldz"
      },
      "source": [
        "## Introduce \"***duration***\" variable"
      ]
    },
    {
      "cell_type": "markdown",
      "metadata": {
        "id": "HuNaWZCGSgGw"
      },
      "source": [
        "It's calculated by ***duration*** = ***deadline*** - ***launched***. The purpose to see if it's necessary to include the time-related variable into the models"
      ]
    },
    {
      "cell_type": "code",
      "metadata": {
        "id": "sRgbNnAxSq_N"
      },
      "source": [
        "df['duration'] = df[['launched','deadline']].apply(lambda x: (x[1]-x[0]).days,axis=1)"
      ],
      "execution_count": null,
      "outputs": []
    },
    {
      "cell_type": "code",
      "metadata": {
        "id": "NdRKai2yT4eg"
      },
      "source": [
        "df = df.drop(['launched','deadline'],axis=1)"
      ],
      "execution_count": null,
      "outputs": []
    },
    {
      "cell_type": "code",
      "metadata": {
        "id": "jb5gY2NzWPB0"
      },
      "source": [
        "df = df.reset_index(drop=True)"
      ],
      "execution_count": null,
      "outputs": []
    },
    {
      "cell_type": "markdown",
      "metadata": {
        "id": "C93IM2j5Qfr2"
      },
      "source": [
        "#Data Exploratory Analysis"
      ]
    },
    {
      "cell_type": "markdown",
      "metadata": {
        "id": "x_siGnW5RkmK"
      },
      "source": [
        "Through the bar chart on the ***main_category*** column, we can see that the dataset is a highly imbalanced dataset."
      ]
    },
    {
      "cell_type": "code",
      "metadata": {
        "colab": {
          "base_uri": "https://localhost:8080/",
          "height": 337
        },
        "id": "Swmjj5FeEzUl",
        "outputId": "4b83b9f3-b5fd-4f48-81ca-5396f05a3959"
      },
      "source": [
        "df['main_category'].value_counts().plot.bar()"
      ],
      "execution_count": null,
      "outputs": [
        {
          "output_type": "execute_result",
          "data": {
            "text/plain": [
              "<matplotlib.axes._subplots.AxesSubplot at 0x7f068e996b70>"
            ]
          },
          "metadata": {
            "tags": []
          },
          "execution_count": 368
        },
        {
          "output_type": "display_data",
          "data": {
            "image/png": "[encoded data removed]",
            "text/plain": [
              "<Figure size 432x288 with 1 Axes>"
            ]
          },
          "metadata": {
            "tags": [],
            "needs_background": "light"
          }
        }
      ]
    },
    {
      "cell_type": "code",
      "metadata": {
        "colab": {
          "base_uri": "https://localhost:8080/"
        },
        "id": "pJtbNqXgeF0o",
        "outputId": "f7e133ea-1464-482e-9567-732fde66a4ab"
      },
      "source": [
        "df['main_category'].value_counts()"
      ],
      "execution_count": null,
      "outputs": [
        {
          "output_type": "execute_result",
          "data": {
            "text/plain": [
              "Film & Video    53542\n",
              "Music           45833\n",
              "Publishing      33358\n",
              "Games           25896\n",
              "Technology      24148\n",
              "Art             23162\n",
              "Design          23119\n",
              "Food            20680\n",
              "Fashion         17703\n",
              "Theater          9633\n",
              "Photography      9346\n",
              "Comics           8262\n",
              "Crafts           7012\n",
              "Journalism       3922\n",
              "Dance            3205\n",
              "Name: main_category, dtype: int64"
            ]
          },
          "metadata": {
            "tags": []
          },
          "execution_count": 369
        }
      ]
    },
    {
      "cell_type": "code",
      "metadata": {
        "colab": {
          "base_uri": "https://localhost:8080/"
        },
        "id": "xrq_0aLXbfcl",
        "outputId": "4e435bfd-cd2a-4c03-874c-5fae210156bd"
      },
      "source": [
        "df['duration'].agg([min, max])"
      ],
      "execution_count": null,
      "outputs": [
        {
          "output_type": "execute_result",
          "data": {
            "text/plain": [
              "min     1\n",
              "max    92\n",
              "Name: duration, dtype: int64"
            ]
          },
          "metadata": {
            "tags": []
          },
          "execution_count": 370
        }
      ]
    },
    {
      "cell_type": "code",
      "metadata": {
        "colab": {
          "base_uri": "https://localhost:8080/",
          "height": 283
        },
        "id": "cvMZGC1CRxKq",
        "outputId": "6c286299-fcc2-49a0-bb05-c7ead8964630"
      },
      "source": [
        "df[['duration']].plot.hist(xlim=(0,92))"
      ],
      "execution_count": null,
      "outputs": [
        {
          "output_type": "execute_result",
          "data": {
            "text/plain": [
              "<matplotlib.axes._subplots.AxesSubplot at 0x7f05dcc3d160>"
            ]
          },
          "metadata": {
            "tags": []
          },
          "execution_count": 371
        },
        {
          "output_type": "display_data",
          "data": {
            "image/png": "[encoded data removed]",
            "text/plain": [
              "<Figure size 432x288 with 1 Axes>"
            ]
          },
          "metadata": {
            "tags": [],
            "needs_background": "light"
          }
        }
      ]
    },
    {
      "cell_type": "markdown",
      "metadata": {
        "id": "fyuHrzelPJqU"
      },
      "source": [
        "According to the box plot, all classes in main_category seems have similar distributions and similar median."
      ]
    },
    {
      "cell_type": "code",
      "metadata": {
        "colab": {
          "base_uri": "https://localhost:8080/",
          "height": 495
        },
        "id": "GW0WNLoSfbZa",
        "outputId": "1b9222bb-cb38-4ba3-dbcd-f49feccde478"
      },
      "source": [
        "df.boxplot(column='duration', by='main_category',figsize=(20,6))"
      ],
      "execution_count": null,
      "outputs": [
        {
          "output_type": "stream",
          "text": [
            "/usr/local/lib/python3.6/dist-packages/numpy/core/_asarray.py:83: VisibleDeprecationWarning: Creating an ndarray from ragged nested sequences (which is a list-or-tuple of lists-or-tuples-or ndarrays with different lengths or shapes) is deprecated. If you meant to do this, you must specify 'dtype=object' when creating the ndarray\n",
            "  return array(a, dtype, copy=False, order=order)\n"
          ],
          "name": "stderr"
        },
        {
          "output_type": "execute_result",
          "data": {
            "text/plain": [
              "<matplotlib.axes._subplots.AxesSubplot at 0x7f05dc862e48>"
            ]
          },
          "metadata": {
            "tags": []
          },
          "execution_count": 372
        },
        {
          "output_type": "display_data",
          "data": {
            "image/png": "[encoded data removed]",
            "text/plain": [
              "<Figure size 1440x432 with 1 Axes>"
            ]
          },
          "metadata": {
            "tags": [],
            "needs_background": "light"
          }
        }
      ]
    },
    {
      "cell_type": "markdown",
      "metadata": {
        "id": "SBOdILdLPSQg"
      },
      "source": [
        "By using Chi-Sqaure test and us eSelectKBest, it seems that these two variables are adequate for the model."
      ]
    },
    {
      "cell_type": "code",
      "metadata": {
        "colab": {
          "base_uri": "https://localhost:8080/",
          "height": 111
        },
        "id": "d1dbbp8Vcv8l",
        "outputId": "41a6e5cb-585d-4c6c-8ed1-26eb99c94154"
      },
      "source": [
        "\r\n",
        "chi2_values = []\r\n",
        "p_values = []\r\n",
        "\r\n",
        "categoricals = df[['duration','goal']]\r\n",
        "\r\n",
        "for column in categoricals.columns:\r\n",
        "    contingency = pd.crosstab(df[column], df['main_category'])\r\n",
        "\r\n",
        "    chi2_val, p_value, degrees_of_freedom, expected = chi2_contingency(contingency)\r\n",
        "    \r\n",
        "    chi2_values.append(chi2_val)\r\n",
        "    p_values.append(p_value)\r\n",
        "    \r\n",
        "data = list(zip(categoricals.columns, chi2_values, p_values))\r\n",
        "pd.DataFrame(data = data,\r\n",
        "             columns = ['Variable','Chi squared value','p-value'])"
      ],
      "execution_count": null,
      "outputs": [
        {
          "output_type": "execute_result",
          "data": {
            "text/html": [
              "<div>\n",
              "<style scoped>\n",
              "    .dataframe tbody tr th:only-of-type {\n",
              "        vertical-align: middle;\n",
              "    }\n",
              "\n",
              "    .dataframe tbody tr th {\n",
              "        vertical-align: top;\n",
              "    }\n",
              "\n",
              "    .dataframe thead th {\n",
              "        text-align: right;\n",
              "    }\n",
              "</style>\n",
              "<table border=\"1\" class=\"dataframe\">\n",
              "  <thead>\n",
              "    <tr style=\"text-align: right;\">\n",
              "      <th></th>\n",
              "      <th>Variable</th>\n",
              "      <th>Chi squared value</th>\n",
              "      <th>p-value</th>\n",
              "    </tr>\n",
              "  </thead>\n",
              "  <tbody>\n",
              "    <tr>\n",
              "      <th>0</th>\n",
              "      <td>duration</td>\n",
              "      <td>13021.537585</td>\n",
              "      <td>0.0</td>\n",
              "    </tr>\n",
              "    <tr>\n",
              "      <th>1</th>\n",
              "      <td>goal</td>\n",
              "      <td>157068.454000</td>\n",
              "      <td>0.0</td>\n",
              "    </tr>\n",
              "  </tbody>\n",
              "</table>\n",
              "</div>"
            ],
            "text/plain": [
              "   Variable  Chi squared value  p-value\n",
              "0  duration       13021.537585      0.0\n",
              "1      goal      157068.454000      0.0"
            ]
          },
          "metadata": {
            "tags": []
          },
          "execution_count": 373
        }
      ]
    },
    {
      "cell_type": "code",
      "metadata": {
        "colab": {
          "base_uri": "https://localhost:8080/"
        },
        "id": "l3TBbJwvdI1V",
        "outputId": "3a6ef8d1-ac55-44be-9826-f0872fb06afd"
      },
      "source": [
        "SelectKBest(mutual_info_classif, k='all').fit(df[['goal','duration']], df['main_category']).scores_"
      ],
      "execution_count": null,
      "outputs": [
        {
          "output_type": "execute_result",
          "data": {
            "text/plain": [
              "array([0.08188614, 0.02112715])"
            ]
          },
          "metadata": {
            "tags": []
          },
          "execution_count": 374
        }
      ]
    },
    {
      "cell_type": "markdown",
      "metadata": {
        "id": "7VwoBruniMo3"
      },
      "source": [
        "Therefore, both ***duration*** and ***goal*** variables would be used in the models"
      ]
    },
    {
      "cell_type": "markdown",
      "metadata": {
        "id": "txLnGeyMaW-K"
      },
      "source": [
        "# Models"
      ]
    },
    {
      "cell_type": "markdown",
      "metadata": {
        "id": "NXsqV_IqgLJk"
      },
      "source": [
        "First of all, I will try the classical machine learning models (Logistic Regression, Decision trees, random forests and XGboost) with TF-IDF, and then I will try one of the Deep Learning model (CNN)."
      ]
    },
    {
      "cell_type": "markdown",
      "metadata": {
        "id": "jdLBd-P0ab7d"
      },
      "source": [
        "## Machine Learning Models (Except for Neural Networks)"
      ]
    },
    {
      "cell_type": "markdown",
      "metadata": {
        "id": "3V6ftfE2-sY0"
      },
      "source": [
        "The reason to try classical machine learning models is that compared with deep learning models, they are simple and use less resources while has the potential of reaching a good performance "
      ]
    },
    {
      "cell_type": "markdown",
      "metadata": {
        "id": "jh0A1QgeanGy"
      },
      "source": [
        "### Textual data pre-processing and TF-IDF"
      ]
    },
    {
      "cell_type": "markdown",
      "metadata": {
        "id": "YIyFfVU2fHak"
      },
      "source": [
        "As TF-IDF is a word-count based techniques, we would need to do extra preprocessing in order to use this techniques"
      ]
    },
    {
      "cell_type": "code",
      "metadata": {
        "id": "AeW0PVITa0Tq"
      },
      "source": [
        "df_ml = df.copy(deep=True)"
      ],
      "execution_count": null,
      "outputs": []
    },
    {
      "cell_type": "code",
      "metadata": {
        "id": "gvzAAezWF5ap"
      },
      "source": [
        "wordnet_lemmatizer = WordNetLemmatizer()\r\n",
        "def stemSent(sentence):\r\n",
        "    token_words=word_tokenize(sentence)\r\n",
        "    token_words\r\n",
        "    stem_sent=[]\r\n",
        "    for word in token_words:\r\n",
        "        stem_sent.append(wordnet_lemmatizer.lemmatize(word, pos=\"n\"))\r\n",
        "    return \" \".join(stem_sent)"
      ],
      "execution_count": null,
      "outputs": []
    },
    {
      "cell_type": "code",
      "metadata": {
        "id": "UDxO01dIj2Lr"
      },
      "source": [
        "#Exclude all one letter word in the dataset and also Stem words to their root\r\n",
        "df_ml['name'] = df_ml['name'].apply(lambda x: re.sub(r'\\b\\w\\b','',x))\r\n",
        "df_ml['name'] = df_ml['name'].apply(lambda x: re.sub(r'\\s+',' ',x))\r\n",
        "df_ml['name'] = df_ml['name'].apply(lambda x: stemSent(x))\r\n",
        "df_ml['name'] = df_ml['name'].apply(lambda x: x.strip())\r\n",
        "df_ml = df_ml[df_ml['name'].apply(lambda x: len(x.split())>1)]"
      ],
      "execution_count": null,
      "outputs": []
    },
    {
      "cell_type": "code",
      "metadata": {
        "id": "yZsCJde_ktJD"
      },
      "source": [
        "#TF-IDF\r\n",
        "vectorizer = TfidfVectorizer(max_features = 10000, min_df = 10, max_df = 0.3,stop_words=stopwords.words('english'),sublinear_tf=True)\r\n",
        "text_feature = vectorizer.fit_transform(df_ml['name'])"
      ],
      "execution_count": null,
      "outputs": []
    },
    {
      "cell_type": "markdown",
      "metadata": {
        "id": "1m6vPrvRQjsd"
      },
      "source": [
        "As ***goal*** has a range of [1,80000000) and ***duration*** has a range of [1,92], it is necessary to normalize them as the range of TF-IDF is [0,1]. Also, the *text_feature* was stored in the sparse matrix (csr_matrix), this is because there are so many words in the dataset, if we make the *text_feature* dense, it would take way more RAM, in order to save resources, we would also combine ***goal*** and ***duration*** in the sparse matrix"
      ]
    },
    {
      "cell_type": "code",
      "metadata": {
        "id": "MlYMECfoQm6I"
      },
      "source": [
        "#Normalize the 'goal' variable since the range of it is [1,80000000)\r\n",
        "normalized_goal = (df_ml['goal'].values-min(df_ml['goal'].values))/(max(df_ml['goal'].values)-min(df_ml['goal'].values))\r\n",
        "df_ml['goal'] = normalized_goal\r\n",
        "#Normalize the 'duration' variable since the range of it is [1,80000000)\r\n",
        "normalized_duration = (df_ml['duration'].values-min(df_ml['duration'].values))/(max(df_ml['duration'].values)-min(df_ml['duration'].values))\r\n",
        "df_ml['duration'] = normalized_duration\r\n",
        "\r\n",
        "#Combined the 'goal' and 'duration' variable with the sparse matrix\r\n",
        "goal_ml = df_ml['goal'].values[:,None]\r\n",
        "duration_ml = df_ml['duration'].values[:,None]\r\n",
        "matrix_ml = hstack((text_feature,goal_ml,duration_ml))"
      ],
      "execution_count": null,
      "outputs": []
    },
    {
      "cell_type": "markdown",
      "metadata": {
        "id": "KxerOHfcXVCz"
      },
      "source": [
        "### Divide the data into Train / Validation / Test sets"
      ]
    },
    {
      "cell_type": "code",
      "metadata": {
        "id": "z80rAx8_y4Ah"
      },
      "source": [
        "#transform the target variable 'main_category' into numbers and keep the original label.\r\n",
        "target_ml = df_ml['main_category'].factorize()[0]\r\n",
        "index_list = df_ml['main_category'].factorize()[1]"
      ],
      "execution_count": null,
      "outputs": []
    },
    {
      "cell_type": "code",
      "metadata": {
        "id": "SFpCQPJHXNh7"
      },
      "source": [
        "#Split the whole dataset into Train, Validation and Test set. with 60%, 20% and 20% of the whole dataset, respectively.\r\n",
        "train_ratio = 0.6\r\n",
        "valid_ratio = 0.2\r\n",
        "test_ratio = 0.2\r\n",
        "\r\n",
        "X_train, X_test, y_train, y_test = train_test_split(matrix_ml, target_ml, test_size=test_ratio, random_state=2020, stratify=target_ml)\r\n",
        "\r\n",
        "valid_ratio_real = valid_ratio/(1-test_ratio)\r\n",
        "\r\n",
        "X_train, X_valid, y_train, y_valid = train_test_split(X_train, y_train, test_size=valid_ratio_real, random_state=2020, stratify=y_train)"
      ],
      "execution_count": null,
      "outputs": []
    },
    {
      "cell_type": "code",
      "metadata": {
        "colab": {
          "base_uri": "https://localhost:8080/"
        },
        "id": "s_-ezMtHfUja",
        "outputId": "6d1c7129-9df9-447d-c568-822d85c65d17"
      },
      "source": [
        "print(X_train)"
      ],
      "execution_count": null,
      "outputs": [
        {
          "output_type": "stream",
          "text": [
            "  (0, 1753)\t0.4446828259821823\n",
            "  (0, 3064)\t0.5833143901137827\n",
            "  (0, 5153)\t0.4853132375511964\n",
            "  (0, 9704)\t0.4758913405602815\n",
            "  (0, 10000)\t0.6261674028766666\n",
            "  (0, 10001)\t0.31868131868131866\n",
            "  (1, 834)\t0.28994814672532604\n",
            "  (1, 1394)\t0.3745921129733367\n",
            "  (1, 2664)\t0.32543361535728393\n",
            "  (1, 3992)\t0.7596124736712586\n",
            "  (1, 8560)\t0.3044547141156438\n",
            "  (1, 10000)\t0.4764084143828414\n",
            "  (1, 10001)\t0.31868131868131866\n",
            "  (2, 3373)\t1.0\n",
            "  (2, 10000)\t0.46658312382078504\n",
            "  (2, 10001)\t0.2087912087912088\n",
            "  (3, 9391)\t1.0\n",
            "  (3, 10000)\t0.6036751096847507\n",
            "  (3, 10001)\t0.26373626373626374\n",
            "  (4, 2153)\t0.6254142151213644\n",
            "  (4, 6191)\t0.7802929318686207\n",
            "  (4, 10000)\t0.5302927822150189\n",
            "  (4, 10001)\t0.31868131868131866\n",
            "  (5, 177)\t0.33112211895166904\n",
            "  (5, 1555)\t0.4589610411065969\n",
            "  :\t:\n",
            "  (184744, 10000)\t0.5046700463811095\n",
            "  (184744, 10001)\t0.4065934065934066\n",
            "  (184745, 2433)\t0.872407175223578\n",
            "  (184745, 3572)\t0.48877982836694195\n",
            "  (184745, 10000)\t0.5858219722022845\n",
            "  (184745, 10001)\t0.26373626373626374\n",
            "  (184746, 1170)\t0.41082331044854103\n",
            "  (184746, 1730)\t0.3881456358258276\n",
            "  (184746, 3478)\t0.6044233419227587\n",
            "  (184746, 4121)\t0.29596742927953135\n",
            "  (184746, 4145)\t0.4771193535438015\n",
            "  (184746, 10000)\t0.6136410753018893\n",
            "  (184746, 10001)\t0.14285714285714285\n",
            "  (184747, 1210)\t0.5163353511324225\n",
            "  (184747, 1350)\t0.3916499388543969\n",
            "  (184747, 8227)\t0.5643357863416721\n",
            "  (184747, 8467)\t0.5114032174521702\n",
            "  (184747, 10000)\t0.6083142653942005\n",
            "  (184747, 10001)\t0.31868131868131866\n",
            "  (184748, 3321)\t0.5957648298691872\n",
            "  (184748, 3333)\t0.5289474728809905\n",
            "  (184748, 3572)\t0.4211844909704436\n",
            "  (184748, 5079)\t0.43345410713213967\n",
            "  (184748, 10000)\t0.5374486946074928\n",
            "  (184748, 10001)\t0.31868131868131866\n"
          ],
          "name": "stdout"
        }
      ]
    },
    {
      "cell_type": "markdown",
      "metadata": {
        "id": "3jrvYENUaivK"
      },
      "source": [
        "### Logistic Regression"
      ]
    },
    {
      "cell_type": "code",
      "metadata": {
        "id": "Cjwv3chV-c3Y"
      },
      "source": [
        "clf = LogisticRegression(random_state = 2020, solver='lbfgs', C=1, max_iter=500, class_weight='balanced').fit(X_train,y_train)"
      ],
      "execution_count": null,
      "outputs": []
    },
    {
      "cell_type": "code",
      "metadata": {
        "id": "pQmoZuqa0Ba6",
        "colab": {
          "base_uri": "https://localhost:8080/"
        },
        "outputId": "085be521-1422-418f-e624-316736161a86"
      },
      "source": [
        "print('The Accuracy on Validation Set is {:2.2%} for Logistic Regression'.format(clf.score(X_valid, y_valid)))"
      ],
      "execution_count": null,
      "outputs": [
        {
          "output_type": "stream",
          "text": [
            "The Accuracy on Validation Set is 57.56% for Logistic Regression\n"
          ],
          "name": "stdout"
        }
      ]
    },
    {
      "cell_type": "code",
      "metadata": {
        "id": "eDtN12PWC6ES",
        "colab": {
          "base_uri": "https://localhost:8080/"
        },
        "outputId": "a731bebb-c56d-4342-b957-f564a140f153"
      },
      "source": [
        "print(classification_report(y_valid, clf.predict(X_valid), target_names=index_list))"
      ],
      "execution_count": null,
      "outputs": [
        {
          "output_type": "stream",
          "text": [
            "              precision    recall  f1-score   support\n",
            "\n",
            "  Publishing       0.59      0.41      0.49      6657\n",
            "Film & Video       0.73      0.50      0.59     10664\n",
            "       Music       0.88      0.71      0.79      9153\n",
            "        Food       0.73      0.79      0.76      4122\n",
            "      Design       0.56      0.49      0.52      4611\n",
            "      Crafts       0.28      0.54      0.37      1400\n",
            "       Games       0.68      0.67      0.67      5157\n",
            "      Comics       0.40      0.62      0.48      1647\n",
            "     Fashion       0.67      0.68      0.67      3521\n",
            "     Theater       0.35      0.58      0.43      1922\n",
            "         Art       0.53      0.43      0.48      4620\n",
            " Photography       0.33      0.54      0.41      1864\n",
            "  Technology       0.58      0.61      0.59      4808\n",
            "       Dance       0.23      0.60      0.33       640\n",
            "  Journalism       0.10      0.38      0.16       783\n",
            "\n",
            "    accuracy                           0.58     61569\n",
            "   macro avg       0.51      0.57      0.52     61569\n",
            "weighted avg       0.63      0.58      0.59     61569\n",
            "\n"
          ],
          "name": "stdout"
        }
      ]
    },
    {
      "cell_type": "markdown",
      "metadata": {
        "id": "aG7CRchC4qJ7"
      },
      "source": [
        "### Decision Tree"
      ]
    },
    {
      "cell_type": "code",
      "metadata": {
        "id": "w35-WX3D4tSP"
      },
      "source": [
        "clf1 = DecisionTreeClassifier(random_state = 2020, class_weight='balanced').fit(X_train, y_train)"
      ],
      "execution_count": null,
      "outputs": []
    },
    {
      "cell_type": "code",
      "metadata": {
        "id": "Z7jM-OoN4-ic",
        "colab": {
          "base_uri": "https://localhost:8080/"
        },
        "outputId": "b4b86d54-d158-438e-cb79-f282118ed4f3"
      },
      "source": [
        "print('The Accuracy on Validation Set is {:2.2%} for Decision Tree'.format(clf1.score(X_valid, y_valid)))"
      ],
      "execution_count": null,
      "outputs": [
        {
          "output_type": "stream",
          "text": [
            "The Accuracy on Validation Set is 44.76% for Decision Tree\n"
          ],
          "name": "stdout"
        }
      ]
    },
    {
      "cell_type": "code",
      "metadata": {
        "id": "-NeGe6tDDnHP",
        "colab": {
          "base_uri": "https://localhost:8080/"
        },
        "outputId": "93070625-f2f1-455d-cac4-e7e0aa17012f"
      },
      "source": [
        "print(classification_report(y_valid, clf1.predict(X_valid), target_names=index_list))"
      ],
      "execution_count": null,
      "outputs": [
        {
          "output_type": "stream",
          "text": [
            "              precision    recall  f1-score   support\n",
            "\n",
            "  Publishing       0.42      0.37      0.39      6657\n",
            "Film & Video       0.50      0.49      0.49     10664\n",
            "       Music       0.74      0.65      0.69      9153\n",
            "        Food       0.55      0.53      0.54      4122\n",
            "      Design       0.33      0.27      0.30      4611\n",
            "      Crafts       0.16      0.29      0.21      1400\n",
            "       Games       0.55      0.47      0.51      5157\n",
            "      Comics       0.33      0.48      0.39      1647\n",
            "     Fashion       0.48      0.50      0.49      3521\n",
            "     Theater       0.36      0.41      0.38      1922\n",
            "         Art       0.35      0.34      0.35      4620\n",
            " Photography       0.28      0.35      0.31      1864\n",
            "  Technology       0.38      0.37      0.38      4808\n",
            "       Dance       0.16      0.44      0.24       640\n",
            "  Journalism       0.06      0.11      0.08       783\n",
            "\n",
            "    accuracy                           0.45     61569\n",
            "   macro avg       0.38      0.40      0.38     61569\n",
            "weighted avg       0.47      0.45      0.46     61569\n",
            "\n"
          ],
          "name": "stdout"
        }
      ]
    },
    {
      "cell_type": "markdown",
      "metadata": {
        "id": "Nv9Md5YL6zBa"
      },
      "source": [
        "### Random Forest"
      ]
    },
    {
      "cell_type": "code",
      "metadata": {
        "id": "g2uXKXsF61TA"
      },
      "source": [
        "clf2 = RandomForestClassifier(random_state = 2020, n_estimators = 200, class_weight='balanced').fit(X_train, y_train)"
      ],
      "execution_count": null,
      "outputs": []
    },
    {
      "cell_type": "code",
      "metadata": {
        "id": "ytUdfXe0-cgM",
        "colab": {
          "base_uri": "https://localhost:8080/"
        },
        "outputId": "a77cfd32-a23c-4987-eaba-c4a34fef6c21"
      },
      "source": [
        "print('The Accuracy on Validation Set is {:2.2%} for Random Forest'.format(clf2.score(X_valid, y_valid)))"
      ],
      "execution_count": null,
      "outputs": [
        {
          "output_type": "stream",
          "text": [
            "The Accuracy on Validation Set is 54.30% for Random Forest\n"
          ],
          "name": "stdout"
        }
      ]
    },
    {
      "cell_type": "code",
      "metadata": {
        "id": "60HY5OWw4X0b",
        "colab": {
          "base_uri": "https://localhost:8080/"
        },
        "outputId": "e3070b44-f908-4e0c-cbda-d121d26d10a7"
      },
      "source": [
        "print(classification_report(y_valid, clf2.predict(X_valid), target_names=index_list))"
      ],
      "execution_count": null,
      "outputs": [
        {
          "output_type": "stream",
          "text": [
            "              precision    recall  f1-score   support\n",
            "\n",
            "  Publishing       0.52      0.46      0.49      6657\n",
            "Film & Video       0.49      0.62      0.55     10664\n",
            "       Music       0.74      0.73      0.74      9153\n",
            "        Food       0.65      0.68      0.66      4122\n",
            "      Design       0.49      0.38      0.43      4611\n",
            "      Crafts       0.32      0.31      0.31      1400\n",
            "       Games       0.62      0.56      0.59      5157\n",
            "      Comics       0.50      0.50      0.50      1647\n",
            "     Fashion       0.58      0.60      0.59      3521\n",
            "     Theater       0.49      0.43      0.45      1922\n",
            "         Art       0.48      0.42      0.45      4620\n",
            " Photography       0.45      0.37      0.40      1864\n",
            "  Technology       0.51      0.51      0.51      4808\n",
            "       Dance       0.29      0.45      0.35       640\n",
            "  Journalism       0.07      0.07      0.07       783\n",
            "\n",
            "    accuracy                           0.54     61569\n",
            "   macro avg       0.48      0.47      0.47     61569\n",
            "weighted avg       0.55      0.54      0.54     61569\n",
            "\n"
          ],
          "name": "stdout"
        }
      ]
    },
    {
      "cell_type": "markdown",
      "metadata": {
        "id": "BgJ0RUaHEGkC"
      },
      "source": [
        "### Xgboost"
      ]
    },
    {
      "cell_type": "code",
      "metadata": {
        "colab": {
          "base_uri": "https://localhost:8080/"
        },
        "id": "ry4HDRohEGGE",
        "outputId": "a973fbd4-a6ad-4adb-b5db-a10c9d61b64d"
      },
      "source": [
        "data_dmatrix = xgb.DMatrix(data=X_train,label=y_train)\r\n",
        "\r\n",
        "xg_cla = xgb.XGBClassifier(random_state = 2020, n_estimators =1000, n_jobs =-1)\r\n",
        "xg_cla.fit(X_train,y_train)\r\n",
        "preds = xg_cla.predict(X_valid)\r\n",
        "print(classification_report(y_valid, preds, target_names=index_list))"
      ],
      "execution_count": null,
      "outputs": [
        {
          "output_type": "stream",
          "text": [
            "              precision    recall  f1-score   support\n",
            "\n",
            "  Publishing       0.62      0.48      0.54      6658\n",
            "Film & Video       0.41      0.80      0.54     10667\n",
            "       Music       0.82      0.75      0.78      9154\n",
            "        Food       0.77      0.72      0.74      4122\n",
            "      Design       0.58      0.43      0.50      4611\n",
            "      Crafts       0.55      0.29      0.38      1399\n",
            "       Games       0.76      0.60      0.67      5158\n",
            "      Comics       0.76      0.46      0.57      1648\n",
            "     Fashion       0.75      0.61      0.67      3522\n",
            "     Theater       0.68      0.43      0.53      1923\n",
            "         Art       0.57      0.44      0.50      4621\n",
            " Photography       0.65      0.38      0.48      1865\n",
            "  Technology       0.58      0.56      0.57      4811\n",
            "       Dance       0.71      0.43      0.54       641\n",
            "  Journalism       0.38      0.06      0.11       783\n",
            "\n",
            "    accuracy                           0.59     61583\n",
            "   macro avg       0.64      0.50      0.54     61583\n",
            "weighted avg       0.63      0.59      0.59     61583\n",
            "\n"
          ],
          "name": "stdout"
        }
      ]
    },
    {
      "cell_type": "code",
      "metadata": {
        "colab": {
          "base_uri": "https://localhost:8080/"
        },
        "id": "lDrvuuM0YcHn",
        "outputId": "07b5ff24-d4b7-4082-85c4-3f8b2108ab22"
      },
      "source": [
        "preds_test = xg_cla.predict(X_test)\r\n",
        "print(classification_report(y_test, preds_test, target_names=index_list))"
      ],
      "execution_count": null,
      "outputs": [
        {
          "output_type": "stream",
          "text": [
            "              precision    recall  f1-score   support\n",
            "\n",
            "  Publishing       0.60      0.48      0.54      6657\n",
            "Film & Video       0.41      0.81      0.55     10667\n",
            "       Music       0.81      0.75      0.78      9154\n",
            "        Food       0.78      0.71      0.75      4122\n",
            "      Design       0.59      0.44      0.50      4612\n",
            "      Crafts       0.59      0.32      0.42      1399\n",
            "       Games       0.75      0.59      0.66      5159\n",
            "      Comics       0.77      0.48      0.59      1648\n",
            "     Fashion       0.74      0.61      0.67      3522\n",
            "     Theater       0.69      0.44      0.54      1923\n",
            "         Art       0.57      0.44      0.49      4621\n",
            " Photography       0.66      0.39      0.49      1865\n",
            "  Technology       0.58      0.55      0.57      4811\n",
            "       Dance       0.66      0.43      0.52       640\n",
            "  Journalism       0.39      0.06      0.10       783\n",
            "\n",
            "    accuracy                           0.60     61583\n",
            "   macro avg       0.64      0.50      0.54     61583\n",
            "weighted avg       0.63      0.60      0.59     61583\n",
            "\n"
          ],
          "name": "stdout"
        }
      ]
    },
    {
      "cell_type": "code",
      "metadata": {
        "colab": {
          "base_uri": "https://localhost:8080/"
        },
        "id": "H1k7WPXZ1ri-",
        "outputId": "dc6c2f15-2118-495e-c016-86685c5a786f"
      },
      "source": [
        "preds = xg_cla.predict(X_valid)\r\n",
        "f1_score(y_valid,preds, average='weighted')"
      ],
      "execution_count": null,
      "outputs": [
        {
          "output_type": "execute_result",
          "data": {
            "text/plain": [
              "0.5933920248848141"
            ]
          },
          "metadata": {
            "tags": []
          },
          "execution_count": 383
        }
      ]
    },
    {
      "cell_type": "code",
      "metadata": {
        "colab": {
          "base_uri": "https://localhost:8080/"
        },
        "id": "Opcpy4CfhYrG",
        "outputId": "28a644cb-03f5-4e13-f927-44b91489920f"
      },
      "source": [
        "f1_score(y_test,preds_test, average='weighted')"
      ],
      "execution_count": null,
      "outputs": [
        {
          "output_type": "execute_result",
          "data": {
            "text/plain": [
              "0.5946411559594624"
            ]
          },
          "metadata": {
            "tags": []
          },
          "execution_count": 316
        }
      ]
    },
    {
      "cell_type": "markdown",
      "metadata": {
        "id": "U1zw5Wm7_t4z"
      },
      "source": [
        "## Deep Learning Models"
      ]
    },
    {
      "cell_type": "markdown",
      "metadata": {
        "id": "UW3xU9jYCl6R"
      },
      "source": [
        "Additionally, I will also try to implement a CNN model to classify the ***name*** along with ***goal*** and ***duration*** variable (As it's a short text classification.)"
      ]
    },
    {
      "cell_type": "code",
      "metadata": {
        "id": "N1wiuewcCnEY"
      },
      "source": [
        "df_dl = df.copy(deep=True)\n",
        "df_dl['name'] = df_dl['name'].apply(lambda x: re.sub(r'\\b\\w\\b','',x))\n",
        "df_dl['name'] = df_dl['name'].apply(lambda x: re.sub(r'\\s+',' ',x))\n",
        "df_dl = df_dl[df_dl['name'].apply(lambda x: len(x.split())>1)]\n",
        "MAX_SEQUENCE_LENGTH = max(df_dl['name'].apply(lambda x: len(x.split())))\n",
        "MAX_NB_WORDS = 100000"
      ],
      "execution_count": null,
      "outputs": []
    },
    {
      "cell_type": "code",
      "metadata": {
        "id": "_BJudMMBxl9m"
      },
      "source": [
        "data_df = df_dl[['name','goal','duration']].values\r\n",
        "target_ml = pd.get_dummies(df_dl['main_category'].values)"
      ],
      "execution_count": null,
      "outputs": []
    },
    {
      "cell_type": "code",
      "metadata": {
        "id": "Yay1SDoxxe_4"
      },
      "source": [
        "#Split the whole dataset into Train, Validation and Test set. with 60%, 20% and 20% of the whole dataset, respectively.\r\n",
        "train_ratio = 0.6\r\n",
        "valid_ratio = 0.2\r\n",
        "test_ratio = 0.2\r\n",
        "\r\n",
        "X_train, X_test, y_train, y_test = train_test_split(data_df, target_ml, \r\n",
        "                                                    test_size=test_ratio, random_state=2020, stratify=target_ml)\r\n",
        "\r\n",
        "valid_ratio_real = 0.2/(1-test_ratio)\r\n",
        "\r\n",
        "X_train, X_valid, y_train, y_valid = train_test_split(X_train, y_train, \r\n",
        "                                                      test_size=valid_ratio_real, random_state=2020, stratify=y_train)"
      ],
      "execution_count": null,
      "outputs": []
    },
    {
      "cell_type": "markdown",
      "metadata": {
        "id": "di116T1ZV40_"
      },
      "source": [
        "Seperate the ***name*** from ***duration*** and ***goal*** for later use"
      ]
    },
    {
      "cell_type": "code",
      "metadata": {
        "id": "TLbJwXcH0IMP"
      },
      "source": [
        "text_train = X_train[:,0]\r\n",
        "additional_train = X_train[:,1:]\r\n",
        "\r\n",
        "text_val = X_valid[:,0]\r\n",
        "additional_val = X_valid[:,1:]\r\n",
        "\r\n",
        "text_test = X_test[:,0]\r\n",
        "additional_test = X_test[:,1:]"
      ],
      "execution_count": null,
      "outputs": []
    },
    {
      "cell_type": "code",
      "metadata": {
        "id": "-YFMrFkTgt1J"
      },
      "source": [
        "f_row_train = (additional_train[:,0]-additional_train[:,0].mean())/additional_train[:,0].std()\r\n",
        "s_row_train = (additional_train[:,1]-additional_train[:,1].mean())/additional_train[:,1].std()\r\n",
        "normalized_additional_train = np.vstack((f_row_train,s_row_train)).transpose()\r\n",
        "\r\n",
        "f_row_val = (additional_val[:,0]-additional_val[:,0].mean())/additional_val[:,0].std()\r\n",
        "s_row_val = (additional_val[:,1]-additional_val[:,1].mean())/additional_val[:,1].std()\r\n",
        "normalized_additional_val = np.vstack((f_row_val,s_row_val)).transpose()\r\n",
        "\r\n",
        "f_row_test = (additional_test[:,0]-additional_test[:,0].mean())/additional_test[:,0].std()\r\n",
        "s_row_test = (additional_test[:,1]-additional_test[:,1].mean())/additional_test[:,1].std()\r\n",
        "normalized_additional_test = np.vstack((f_row_test,s_row_test)).transpose()"
      ],
      "execution_count": null,
      "outputs": []
    },
    {
      "cell_type": "markdown",
      "metadata": {
        "id": "RyfoHZ9eYuQy"
      },
      "source": [
        "Implementing right padding and tokenize the textual data"
      ]
    },
    {
      "cell_type": "code",
      "metadata": {
        "colab": {
          "base_uri": "https://localhost:8080/"
        },
        "id": "tCHyzsjzxiMY",
        "outputId": "b7f42c3f-7f26-4b70-d926-92cf1d28bb01"
      },
      "source": [
        "tokenizer = Tokenizer(num_words=MAX_NB_WORDS, filters='!\"#$%&()*+,-./:;<=>?@[\\]^_`{|}~', lower=True)\r\n",
        "tokenizer.fit_on_texts(text_train)\r\n",
        "word_index = tokenizer.word_index\r\n",
        "print('Found %s unique tokens.' % len(word_index))\r\n",
        "\r\n",
        "X = tokenizer.texts_to_sequences(text_train)\r\n",
        "X = pad_sequences(X, maxlen=MAX_SEQUENCE_LENGTH,padding='post')\r\n",
        "print('Shape of data tensor:', X.shape)\r\n",
        "\r\n",
        "X_val = tokenizer.texts_to_sequences(text_val)\r\n",
        "X_val = pad_sequences(X_val, maxlen=MAX_SEQUENCE_LENGTH,padding='post')\r\n",
        "\r\n",
        "X_test = tokenizer.texts_to_sequences(text_test)\r\n",
        "X_test = pad_sequences(X_test, maxlen=MAX_SEQUENCE_LENGTH,padding='post')"
      ],
      "execution_count": null,
      "outputs": [
        {
          "output_type": "stream",
          "text": [
            "Found 85131 unique tokens.\n",
            "Shape of data tensor: (184749, 18)\n"
          ],
          "name": "stdout"
        }
      ]
    },
    {
      "cell_type": "markdown",
      "metadata": {
        "id": "KiBHp-AfWM8L"
      },
      "source": [
        "Implement pre-trained GloVe word embeddings to boost the model performance"
      ]
    },
    {
      "cell_type": "code",
      "metadata": {
        "id": "nb45yRRQWj6O",
        "colab": {
          "base_uri": "https://localhost:8080/"
        },
        "outputId": "6de31893-c86b-456f-f7f3-054280344ad3"
      },
      "source": [
        "!wget http://nlp.stanford.edu/data/glove.6B.zip\n",
        "!unzip -q glove.6B.zip\n",
        "\n",
        "path_to_glove_file = os.path.join(\n",
        "    os.path.expanduser(\"~\"), \"/content/glove.6B.200d.txt\"\n",
        ")\n",
        "\n",
        "embeddings_index = {}\n",
        "with open(path_to_glove_file) as f:\n",
        "    for line in f:\n",
        "        word, coefs = line.split(maxsplit=1)\n",
        "        coefs = np.fromstring(coefs, \"f\", sep=\" \")\n",
        "        embeddings_index[word] = coefs\n",
        "\n",
        "print(\"Found %s word vectors.\" % len(embeddings_index))\n",
        "\n",
        "num_tokens = len(word_index) + 2\n",
        "EMBEDDING_DIM = 200\n",
        "hits = 0\n",
        "misses = 0\n",
        "\n",
        "# Prepare embedding matrix\n",
        "embedding_matrix = np.zeros((num_tokens, EMBEDDING_DIM))\n",
        "for word, i in word_index.items():\n",
        "    embedding_vector = embeddings_index.get(word)\n",
        "    if embedding_vector is not None:\n",
        "        # Words not found in embedding index will be all-zeros.\n",
        "        # This includes the representation for \"padding\" and \"OOV\"\n",
        "        embedding_matrix[i] = embedding_vector\n",
        "        hits += 1\n",
        "    else:\n",
        "        misses += 1\n",
        "print(\"Converted %d words (%d misses)\" % (hits, misses))"
      ],
      "execution_count": null,
      "outputs": [
        {
          "output_type": "stream",
          "text": [
            "--2020-12-31 03:30:57--  http://nlp.stanford.edu/data/glove.6B.zip\n",
            "Resolving nlp.stanford.edu (nlp.stanford.edu)... 171.64.67.140\n",
            "Connecting to nlp.stanford.edu (nlp.stanford.edu)|171.64.67.140|:80... connected.\n",
            "HTTP request sent, awaiting response... 302 Found\n",
            "Location: https://nlp.stanford.edu/data/glove.6B.zip [following]\n",
            "--2020-12-31 03:30:58--  https://nlp.stanford.edu/data/glove.6B.zip\n",
            "Connecting to nlp.stanford.edu (nlp.stanford.edu)|171.64.67.140|:443... connected.\n",
            "HTTP request sent, awaiting response... 301 Moved Permanently\n",
            "Location: http://downloads.cs.stanford.edu/nlp/data/glove.6B.zip [following]\n",
            "--2020-12-31 03:30:58--  http://downloads.cs.stanford.edu/nlp/data/glove.6B.zip\n",
            "Resolving downloads.cs.stanford.edu (downloads.cs.stanford.edu)... 171.64.64.22\n",
            "Connecting to downloads.cs.stanford.edu (downloads.cs.stanford.edu)|171.64.64.22|:80... connected.\n",
            "HTTP request sent, awaiting response... 200 OK\n",
            "Length: 862182613 (822M) [application/zip]\n",
            "Saving to: ‘glove.6B.zip’\n",
            "\n",
            "glove.6B.zip        100%[===================>] 822.24M  2.06MB/s    in 6m 28s  \n",
            "\n",
            "2020-12-31 03:37:26 (2.12 MB/s) - ‘glove.6B.zip’ saved [862182613/862182613]\n",
            "\n",
            "Found 400000 word vectors.\n",
            "Converted 51118 words (34013 misses)\n"
          ],
          "name": "stdout"
        }
      ]
    },
    {
      "cell_type": "markdown",
      "metadata": {
        "id": "ORpTj7ZVWUT6"
      },
      "source": [
        "As the dataset is imbalanced, class_weights are needed in order to deal with this problem"
      ]
    },
    {
      "cell_type": "code",
      "metadata": {
        "id": "m4PdVy1__XE7"
      },
      "source": [
        "class_weights = class_weight.compute_class_weight('balanced',sorted(df_dl['main_category'].unique()),df_dl['main_category'].iloc[y_train.index])\r\n",
        "\r\n",
        "class_weights = dict(enumerate(class_weights))\r\n",
        "\r\n",
        "embedding_layer = Embedding(\r\n",
        "    num_tokens,\r\n",
        "    EMBEDDING_DIM,\r\n",
        "    embeddings_initializer=tf.keras.initializers.Constant(embedding_matrix),\r\n",
        "    trainable=False,\r\n",
        ")"
      ],
      "execution_count": null,
      "outputs": []
    },
    {
      "cell_type": "code",
      "metadata": {
        "id": "wodeoiLPdbaZ"
      },
      "source": [
        "inputText = Input(shape=(MAX_SEQUENCE_LENGTH,))\r\n",
        "inputAdd = Input(shape=(2,))\r\n",
        "text_embedding = embedding_layer(inputText)\r\n",
        "text_embedding = SpatialDropout1D(0.2)(text_embedding)\r\n",
        "text_embedding = Conv1D(200, 3, padding=\"same\", activation=\"relu\", strides=3)(text_embedding)\r\n",
        "text_embedding = Conv1D(200, 3, padding=\"same\", activation=\"relu\", strides=3)(text_embedding)\r\n",
        "text_embedding = GlobalMaxPooling1D()(text_embedding)\r\n",
        "text_embedding = Dropout(0.2)(text_embedding)\r\n",
        "combined = Concatenate(axis=1)([text_embedding, inputAdd])\r\n",
        "res = Dense(202, activation='relu')(combined)\r\n",
        "res = Dropout(0.25)(res)\r\n",
        "res = Dense(101, activation='relu')(res)\r\n",
        "res = Dropout(0.25)(res)\r\n",
        "res = Dense(50, activation='relu')(res)\r\n",
        "res = Dropout(0.25)(res)\r\n",
        "res = Dense(30, activation='relu')(res)\r\n",
        "res = Dropout(0.5)(res)\r\n",
        "res = Dense(target_ml.shape[1], activation='softmax')(res)"
      ],
      "execution_count": null,
      "outputs": []
    },
    {
      "cell_type": "code",
      "metadata": {
        "id": "zx3l30dNQQh_"
      },
      "source": [
        "model = Model(inputs = [inputText, inputAdd], outputs=res)"
      ],
      "execution_count": null,
      "outputs": []
    },
    {
      "cell_type": "code",
      "metadata": {
        "colab": {
          "base_uri": "https://localhost:8080/"
        },
        "id": "Jt-Thed2tuE2",
        "outputId": "2c19d962-8809-4758-fd7f-c338d79fcf91"
      },
      "source": [
        "model.summary()"
      ],
      "execution_count": null,
      "outputs": [
        {
          "output_type": "stream",
          "text": [
            "Model: \"model_30\"\n",
            "__________________________________________________________________________________________________\n",
            "Layer (type)                    Output Shape         Param #     Connected to                     \n",
            "==================================================================================================\n",
            "input_71 (InputLayer)           [(None, 18)]         0                                            \n",
            "__________________________________________________________________________________________________\n",
            "embedding_7 (Embedding)         (None, 18, 200)      17026600    input_71[0][0]                   \n",
            "__________________________________________________________________________________________________\n",
            "spatial_dropout1d_38 (SpatialDr (None, 18, 200)      0           embedding_7[0][0]                \n",
            "__________________________________________________________________________________________________\n",
            "conv1d_62 (Conv1D)              (None, 6, 200)       120200      spatial_dropout1d_38[0][0]       \n",
            "__________________________________________________________________________________________________\n",
            "conv1d_63 (Conv1D)              (None, 2, 200)       120200      conv1d_62[0][0]                  \n",
            "__________________________________________________________________________________________________\n",
            "global_max_pooling1d_35 (Global (None, 200)          0           conv1d_63[0][0]                  \n",
            "__________________________________________________________________________________________________\n",
            "dropout_108 (Dropout)           (None, 200)          0           global_max_pooling1d_35[0][0]    \n",
            "__________________________________________________________________________________________________\n",
            "input_72 (InputLayer)           [(None, 2)]          0                                            \n",
            "__________________________________________________________________________________________________\n",
            "concatenate_34 (Concatenate)    (None, 202)          0           dropout_108[0][0]                \n",
            "                                                                 input_72[0][0]                   \n",
            "__________________________________________________________________________________________________\n",
            "dense_134 (Dense)               (None, 202)          41006       concatenate_34[0][0]             \n",
            "__________________________________________________________________________________________________\n",
            "dropout_109 (Dropout)           (None, 202)          0           dense_134[0][0]                  \n",
            "__________________________________________________________________________________________________\n",
            "dense_135 (Dense)               (None, 101)          20503       dropout_109[0][0]                \n",
            "__________________________________________________________________________________________________\n",
            "dropout_110 (Dropout)           (None, 101)          0           dense_135[0][0]                  \n",
            "__________________________________________________________________________________________________\n",
            "dense_136 (Dense)               (None, 50)           5100        dropout_110[0][0]                \n",
            "__________________________________________________________________________________________________\n",
            "dropout_111 (Dropout)           (None, 50)           0           dense_136[0][0]                  \n",
            "__________________________________________________________________________________________________\n",
            "dense_137 (Dense)               (None, 30)           1530        dropout_111[0][0]                \n",
            "__________________________________________________________________________________________________\n",
            "dropout_112 (Dropout)           (None, 30)           0           dense_137[0][0]                  \n",
            "__________________________________________________________________________________________________\n",
            "dense_138 (Dense)               (None, 15)           465         dropout_112[0][0]                \n",
            "==================================================================================================\n",
            "Total params: 17,335,604\n",
            "Trainable params: 309,004\n",
            "Non-trainable params: 17,026,600\n",
            "__________________________________________________________________________________________________\n"
          ],
          "name": "stdout"
        }
      ]
    },
    {
      "cell_type": "code",
      "metadata": {
        "id": "6C4yoM-ai6Wr"
      },
      "source": [
        "es = EarlyStopping(monitor='val_acc', mode='auto', min_delta=0.00001, patience = 5)"
      ],
      "execution_count": null,
      "outputs": []
    },
    {
      "cell_type": "code",
      "metadata": {
        "colab": {
          "base_uri": "https://localhost:8080/"
        },
        "id": "J_QquVSWIBvV",
        "outputId": "e61c8ad8-c68d-46ff-92a9-f83c081db712"
      },
      "source": [
        "model.compile(\r\n",
        "    loss=\"categorical_crossentropy\", optimizer='Adam', metrics=[\"acc\"]\r\n",
        ")\r\n",
        "\r\n",
        "normalized_additional_train= np.asarray(normalized_additional_train).astype(np.float32)\r\n",
        "normalized_additional_val = np.asarray(normalized_additional_val).astype(np.float32)\r\n",
        "\r\n",
        "\r\n",
        "y_train = np.asarray(y_train)\r\n",
        "model.fit([X,normalized_additional_train], y_train, batch_size=16, epochs=50,\r\n",
        "          validation_data=([X_val,normalized_additional_val], y_valid),\r\n",
        "          class_weight = class_weights, workers=-1,callbacks=es)"
      ],
      "execution_count": null,
      "outputs": [
        {
          "output_type": "stream",
          "text": [
            "Epoch 1/50\n",
            "11547/11547 [==============================] - 53s 5ms/step - loss: 2.0035 - acc: 0.3765 - val_loss: 1.5216 - val_acc: 0.5339\n",
            "Epoch 2/50\n",
            "11547/11547 [==============================] - 51s 4ms/step - loss: 1.6578 - acc: 0.5027 - val_loss: 1.4916 - val_acc: 0.5458\n",
            "Epoch 3/50\n",
            "11547/11547 [==============================] - 51s 4ms/step - loss: 1.6190 - acc: 0.5189 - val_loss: 1.4892 - val_acc: 0.5488\n",
            "Epoch 4/50\n",
            "11547/11547 [==============================] - 51s 4ms/step - loss: 1.6003 - acc: 0.5224 - val_loss: 1.4851 - val_acc: 0.5451\n",
            "Epoch 5/50\n",
            "11547/11547 [==============================] - 51s 4ms/step - loss: 1.5828 - acc: 0.5267 - val_loss: 1.4858 - val_acc: 0.5564\n",
            "Epoch 6/50\n",
            "11547/11547 [==============================] - 51s 4ms/step - loss: 1.5838 - acc: 0.5291 - val_loss: 1.4600 - val_acc: 0.5627\n",
            "Epoch 7/50\n",
            "11547/11547 [==============================] - 52s 4ms/step - loss: 1.5805 - acc: 0.5322 - val_loss: 1.4701 - val_acc: 0.5620\n",
            "Epoch 8/50\n",
            "11547/11547 [==============================] - 51s 4ms/step - loss: 1.5601 - acc: 0.5396 - val_loss: 1.4610 - val_acc: 0.5655\n",
            "Epoch 9/50\n",
            "11547/11547 [==============================] - 51s 4ms/step - loss: 1.5666 - acc: 0.5388 - val_loss: 1.4519 - val_acc: 0.5669\n",
            "Epoch 10/50\n",
            "11547/11547 [==============================] - 51s 4ms/step - loss: 1.5575 - acc: 0.5407 - val_loss: 1.4682 - val_acc: 0.5641\n",
            "Epoch 11/50\n",
            "11547/11547 [==============================] - 51s 4ms/step - loss: 1.5534 - acc: 0.5432 - val_loss: 1.4684 - val_acc: 0.5622\n",
            "Epoch 12/50\n",
            "11547/11547 [==============================] - 51s 4ms/step - loss: 1.5625 - acc: 0.5387 - val_loss: 1.4539 - val_acc: 0.5696\n",
            "Epoch 13/50\n",
            "11547/11547 [==============================] - 52s 5ms/step - loss: 1.5494 - acc: 0.5451 - val_loss: 1.4617 - val_acc: 0.5680\n",
            "Epoch 14/50\n",
            "11547/11547 [==============================] - 51s 4ms/step - loss: 1.5515 - acc: 0.5432 - val_loss: 1.4673 - val_acc: 0.5657\n",
            "Epoch 15/50\n",
            "11547/11547 [==============================] - 51s 4ms/step - loss: 1.5440 - acc: 0.5443 - val_loss: 1.4534 - val_acc: 0.5683\n",
            "Epoch 16/50\n",
            "11547/11547 [==============================] - 51s 4ms/step - loss: 1.5502 - acc: 0.5439 - val_loss: 1.4598 - val_acc: 0.5653\n",
            "Epoch 17/50\n",
            "11547/11547 [==============================] - 51s 4ms/step - loss: 1.5488 - acc: 0.5440 - val_loss: 1.4780 - val_acc: 0.5719\n",
            "Epoch 18/50\n",
            "11547/11547 [==============================] - 52s 4ms/step - loss: 1.5525 - acc: 0.5401 - val_loss: 1.4735 - val_acc: 0.5639\n",
            "Epoch 19/50\n",
            "11547/11547 [==============================] - 53s 5ms/step - loss: 1.5532 - acc: 0.5412 - val_loss: 1.4746 - val_acc: 0.5676\n",
            "Epoch 20/50\n",
            "11547/11547 [==============================] - 53s 5ms/step - loss: 1.5438 - acc: 0.5441 - val_loss: 1.4748 - val_acc: 0.5617\n",
            "Epoch 21/50\n",
            "11547/11547 [==============================] - 51s 4ms/step - loss: 1.5512 - acc: 0.5430 - val_loss: 1.4657 - val_acc: 0.5681\n",
            "Epoch 22/50\n",
            "11547/11547 [==============================] - 51s 4ms/step - loss: 1.5537 - acc: 0.5413 - val_loss: 1.4689 - val_acc: 0.5664\n"
          ],
          "name": "stdout"
        },
        {
          "output_type": "execute_result",
          "data": {
            "text/plain": [
              "<tensorflow.python.keras.callbacks.History at 0x7f05b24d89e8>"
            ]
          },
          "metadata": {
            "tags": []
          },
          "execution_count": 396
        }
      ]
    },
    {
      "cell_type": "code",
      "metadata": {
        "id": "SQ16-Uz3r2Ao"
      },
      "source": [
        "normalized_additional_test=np.asarray(normalized_additional_test).astype(np.float32)\r\n",
        "\r\n",
        "preds = model.predict([X_test,normalized_additional_test])"
      ],
      "execution_count": null,
      "outputs": []
    },
    {
      "cell_type": "code",
      "metadata": {
        "id": "MxTq5B-C9TwP"
      },
      "source": [
        "for i in range(len(preds)):\r\n",
        "  temp = tf.one_hot(tf.argmax(preds[i]), depth = 15)\r\n",
        "  preds[i] = temp"
      ],
      "execution_count": null,
      "outputs": []
    },
    {
      "cell_type": "code",
      "metadata": {
        "colab": {
          "base_uri": "https://localhost:8080/"
        },
        "id": "_-BIODG_uLCT",
        "outputId": "ba5a188a-ce90-425e-c005-c14f74079cf6"
      },
      "source": [
        "print(classification_report(y_test, preds))"
      ],
      "execution_count": null,
      "outputs": [
        {
          "output_type": "stream",
          "text": [
            "              precision    recall  f1-score   support\n",
            "\n",
            "           0       0.59      0.34      0.43      4621\n",
            "           1       0.26      0.63      0.37      1648\n",
            "           2       0.20      0.58      0.30      1399\n",
            "           3       0.19      0.55      0.28       640\n",
            "           4       0.57      0.27      0.37      4612\n",
            "           5       0.61      0.63      0.62      3522\n",
            "           6       0.78      0.40      0.53     10667\n",
            "           7       0.65      0.83      0.73      4122\n",
            "           8       0.60      0.66      0.63      5159\n",
            "           9       0.08      0.48      0.14       783\n",
            "          10       0.87      0.71      0.78      9154\n",
            "          11       0.30      0.53      0.38      1865\n",
            "          12       0.60      0.32      0.42      6657\n",
            "          13       0.56      0.52      0.54      4811\n",
            "          14       0.33      0.54      0.41      1923\n",
            "\n",
            "   micro avg       0.52      0.52      0.52     61583\n",
            "   macro avg       0.48      0.53      0.46     61583\n",
            "weighted avg       0.62      0.52      0.54     61583\n",
            " samples avg       0.52      0.52      0.52     61583\n",
            "\n"
          ],
          "name": "stdout"
        }
      ]
    },
    {
      "cell_type": "code",
      "metadata": {
        "colab": {
          "base_uri": "https://localhost:8080/"
        },
        "id": "0S5j4_v51RdK",
        "outputId": "b325c484-bd73-4528-e1a2-22fd7cac9ed6"
      },
      "source": [
        "preds_valid = model.predict([X_val,normalized_additional_val])\r\n",
        "\r\n",
        "for i in range(len(preds_valid)):\r\n",
        "  temp = tf.one_hot(tf.argmax(preds_valid[i]), depth = 15)\r\n",
        "  preds_valid[i] = temp\r\n",
        "\r\n",
        "f1_score(y_valid,preds_valid, average='weighted')"
      ],
      "execution_count": null,
      "outputs": [
        {
          "output_type": "execute_result",
          "data": {
            "text/plain": [
              "0.5479007146222981"
            ]
          },
          "metadata": {
            "tags": []
          },
          "execution_count": 401
        }
      ]
    },
    {
      "cell_type": "markdown",
      "metadata": {
        "id": "88gQo6XrAPqm"
      },
      "source": [
        "#Conclusion and Future potential Works"
      ]
    },
    {
      "cell_type": "markdown",
      "metadata": {
        "id": "tUIXphaGt7U3"
      },
      "source": [
        "| Model Name     | F1 Score |\r\n",
        "|------------------------|------------|\r\n",
        "| Logistic Regression | 57.56%  |\r\n",
        "| Decision Tree    | 44.76%  |\r\n",
        "| Random Forest    | 54.30%  |\r\n",
        "| Xgboost       |  59.34%     |\r\n",
        "| CNN         |  54.79%     |"
      ]
    },
    {
      "cell_type": "markdown",
      "metadata": {
        "id": "NA-UqPdRXOrU"
      },
      "source": [
        "The best model on validation set is XGBoost with 59.34% on test set. Therefore I tested it on the test set, the result(F-1 score) is around 59.46%.\r\n",
        "\r\n",
        "This result is not optimal. Due to the limited resources and time, some methods or techniques are not tested. For example, for the text classification part, we could implement Transformer or Attention mechanism to achieve better results, but it would require more GPU resources. Additionally, for deep learning models, other pre-trained word embeddings (i.e.: Fasttext) would also be valuable (only GloVe used in this experiment) \r\n",
        "\r\n",
        "What's more, those models (Random Forest and XGBoost) are not tuned well enough, this is due to the fact that both models needs a long training time and due to the limitaiton of Colab, after going idle on the laptop, the colab would automatically disconnected, thus I cannot use gridsearch or manually grid search.\r\n",
        "\r\n",
        "With regard to the feature engineering and selection, if given more time, some ways to try is to do feature engineering on ***goal*** and ***duration***, for exmaple, transform them into categorical variable for example for goal, we might have 1-1,000, 1,001-10,000,..., and so on. This might help us in this problem.\r\n"
      ]
    }
  ]
}